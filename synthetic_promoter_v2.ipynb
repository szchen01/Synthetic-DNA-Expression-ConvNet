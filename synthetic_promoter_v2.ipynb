{
  "cells": [
    {
      "cell_type": "markdown",
      "metadata": {
        "id": "view-in-github",
        "colab_type": "text"
      },
      "source": [
        "<a href=\"https://colab.research.google.com/github/szchen01/Synthetic-Promoter-Data-CNN/blob/main/synthetic_promoter_v2.ipynb\" target=\"_parent\"><img src=\"https://colab.research.google.com/assets/colab-badge.svg\" alt=\"Open In Colab\"/></a>"
      ]
    },
    {
      "cell_type": "code",
      "execution_count": null,
      "metadata": {
        "id": "f8zWbtuCdMJ5"
      },
      "outputs": [],
      "source": [
        "import torch\n",
        "from torch.functional import Tensor\n",
        "import matplotlib.pyplot as plt\n",
        "import numpy as np\n",
        "import torch.nn.functional as F\n",
        "import torch.nn as nn\n",
        "from torch.utils.data import Dataset, DataLoader\n",
        "import random\n",
        "import math"
      ]
    },
    {
      "cell_type": "code",
      "source": [
        "DEVICE = torch.device('cuda' if torch.cuda.is_available() else 'cpu')\n",
        "DEVICE"
      ],
      "metadata": {
        "colab": {
          "base_uri": "https://localhost:8080/"
        },
        "id": "yoi2XgkAJKRU",
        "outputId": "60188ec4-0ed3-40dd-fff0-80af810215ba"
      },
      "execution_count": null,
      "outputs": [
        {
          "output_type": "execute_result",
          "data": {
            "text/plain": [
              "device(type='cpu')"
            ]
          },
          "metadata": {},
          "execution_count": 2
        }
      ]
    },
    {
      "cell_type": "code",
      "source": [
        "def set_seed(seed: int = 32) -> None:\n",
        "    np.random.seed(seed)\n",
        "    random.seed(seed)\n",
        "    torch.manual_seed(seed)\n",
        "    torch.cuda.manual_seed(seed)\n",
        "    # When running on the CuDNN backend, two further options must be set\n",
        "    torch.backends.cudnn.deterministic = True\n",
        "    torch.backends.cudnn.benchmark = False\n",
        "\n",
        "    print(f\"Random seed set as {seed}\")\n",
        "\n",
        "set_seed(10)"
      ],
      "metadata": {
        "colab": {
          "base_uri": "https://localhost:8080/"
        },
        "id": "J2ZyPxo9gn1-",
        "outputId": "46e11aa2-a9d1-41db-e70b-33ce617beeac"
      },
      "execution_count": null,
      "outputs": [
        {
          "output_type": "stream",
          "name": "stdout",
          "text": [
            "Random seed set as 10\n"
          ]
        }
      ]
    },
    {
      "cell_type": "markdown",
      "metadata": {
        "id": "-Ss2CKAq3NAk"
      },
      "source": [
        "# 1. Generate Data"
      ]
    },
    {
      "cell_type": "markdown",
      "source": [
        "## Define"
      ],
      "metadata": {
        "id": "OapcJ6wVfcae"
      }
    },
    {
      "cell_type": "code",
      "source": [
        "bases = ['A', 'T', 'C', 'G']\n",
        "motifs1 = ['TAT', 'CTG', 'GCGG', 'GATTACA', 'ACC']\n",
        "motifs2 = ['TAT', 'CTG', 'GCG']\n",
        "motifs_simple = ['GATTACA']\n",
        "motifs_simple2 = ['TAT']\n",
        "score_dict = {\n",
        "    'TAT':15,\n",
        "    'CTG':12,\n",
        "    'GCG':15,\n",
        "    'GCGG':7,\n",
        "    'GATTACA':20,\n",
        "    'ACC':10,\n",
        "    'TAG':-25,\n",
        "    'TGA':-25\n",
        "}"
      ],
      "metadata": {
        "id": "NzZBIF--fosU"
      },
      "execution_count": null,
      "outputs": []
    },
    {
      "cell_type": "code",
      "source": [
        "def count_motif_occurrences(string, motif):\n",
        "    count = 0\n",
        "    start = 0\n",
        "\n",
        "    while True:\n",
        "        # Find the index of the next occurrence of the motif\n",
        "        index = string.find(motif, start)\n",
        "\n",
        "        # If the motif is not found, break the loop\n",
        "        if index == -1:\n",
        "            break\n",
        "\n",
        "        # Increment the count and update the start index for the next search\n",
        "        count += 1\n",
        "        start = index + 1\n",
        "\n",
        "    return count"
      ],
      "metadata": {
        "id": "tQS-5u28pVjk"
      },
      "execution_count": null,
      "outputs": []
    },
    {
      "cell_type": "code",
      "source": [
        "motifs = motifs2\n",
        "\n",
        "def generate_data(quantity, length, motifs, motif_freq=0.01):\n",
        "  seqs, labels = [], []\n",
        "  # longest_motif = max(len(mot) for mot in motifs)\n",
        "  for _ in range(quantity):\n",
        "    seq = ''\n",
        "    seq_score = 0.0\n",
        "\n",
        "    while len(seq) < length:\n",
        "      p = np.random.uniform(0, 1)\n",
        "      if p <  motif_freq:\n",
        "        motif = np.random.choice(motifs)\n",
        "        if len(motif) + len(seq) <= length:\n",
        "          seq += motif\n",
        "          # seq_score += score_dict[motif]\n",
        "      else:\n",
        "        rand_base = np.random.choice(bases)\n",
        "        seq += rand_base\n",
        "    seqs.append(seq)\n",
        "    for motif in motifs:\n",
        "      motif_count = count_motif_occurrences(seq, motif)\n",
        "      seq_score += motif_count * score_dict[motif]\n",
        "    labels.append(seq_score)\n",
        "  return seqs, labels\n",
        "\n",
        "Xraw, Yraw = generate_data(60000, 8, motifs, motif_freq=0.1)\n",
        "\n",
        "print(f'quantity: {len(Xraw)} length: {len(Xraw[0])}')\n",
        "print(len(Yraw))"
      ],
      "metadata": {
        "colab": {
          "base_uri": "https://localhost:8080/"
        },
        "id": "DeO9pu6-jky5",
        "outputId": "773381ef-26f0-479b-f213-06f79cfaf043"
      },
      "execution_count": null,
      "outputs": [
        {
          "output_type": "stream",
          "name": "stdout",
          "text": [
            "quantity: 60000 length: 8\n",
            "60000\n"
          ]
        }
      ]
    },
    {
      "cell_type": "code",
      "source": [
        "def normalize(Y):\n",
        "  # normalize labels to have mean 0 and variance 1\n",
        "  mean, std, var = torch.mean(Y), torch.std(Y), torch.var(Y)\n",
        "  Y = (Y-mean)/std\n",
        "  print(f'mean: {torch.mean(Y)}, std: {torch.std(Y)}, var: {torch.var(Y)}')\n",
        "  return Y\n",
        "\n",
        "Yraw = Tensor(Yraw)\n",
        "Y = normalize(Yraw)\n",
        "Y = Y.view(-1, 1, 1)\n",
        "Y.shape"
      ],
      "metadata": {
        "colab": {
          "base_uri": "https://localhost:8080/"
        },
        "id": "rvRfItxFq0wp",
        "outputId": "8cf5583a-eb27-4fa2-afb0-29620e1f6736"
      },
      "execution_count": null,
      "outputs": [
        {
          "output_type": "stream",
          "name": "stdout",
          "text": [
            "mean: -1.3732909920349812e-08, std: 0.9999999403953552, var: 0.9999998807907104\n"
          ]
        },
        {
          "output_type": "execute_result",
          "data": {
            "text/plain": [
              "torch.Size([60000, 1, 1])"
            ]
          },
          "metadata": {},
          "execution_count": 7
        }
      ]
    },
    {
      "cell_type": "code",
      "source": [
        "# char to int conversion dictionaries\n",
        "btoi = {'A': 0, 'C': 1, 'G': 2, 'T': 3}\n",
        "itob = {i:b for b,i in btoi.items()}\n",
        "def enc(X):\n",
        "  # convert X from strings to numbers then one hot encode\n",
        "  X_enc = []\n",
        "  for seq in X:\n",
        "    temp = []\n",
        "    for b in seq:\n",
        "      i = btoi[b]\n",
        "      temp.append(i)\n",
        "    X_enc.append(temp)\n",
        "  X_enc = Tensor(X_enc)\n",
        "  X_enc = F.one_hot(X_enc.to(torch.int64), num_classes = 4)\n",
        "  X_enc = torch.permute(X_enc, (0, 2, 1))\n",
        "  X_enc = X_enc.float()\n",
        "  print(X_enc.shape)\n",
        "  return X_enc\n",
        "X = enc(Xraw)\n"
      ],
      "metadata": {
        "colab": {
          "base_uri": "https://localhost:8080/"
        },
        "id": "nOQEDSDssgPs",
        "outputId": "506d59f4-8ad4-4a6b-f432-ab5c27f0b9d2"
      },
      "execution_count": null,
      "outputs": [
        {
          "output_type": "stream",
          "name": "stdout",
          "text": [
            "torch.Size([60000, 4, 8])\n"
          ]
        }
      ]
    },
    {
      "cell_type": "code",
      "source": [
        "def gen_all(quantity=None, length=None, motifs=None, motif_freq=0.01):\n",
        "  X, Y = generate_data(quantity, length, motifs, motif_freq)\n",
        "  Y = Tensor(Y)\n",
        "  Y = normalize(Y)\n",
        "  Y = Y.view(-1, 1, 1)\n",
        "  X = enc(X)\n",
        "  return X, Y"
      ],
      "metadata": {
        "id": "eVxSHVpJ2U64"
      },
      "execution_count": null,
      "outputs": []
    },
    {
      "cell_type": "markdown",
      "source": [
        "## Instance"
      ],
      "metadata": {
        "id": "TdZgki0rfVQd"
      }
    },
    {
      "cell_type": "code",
      "source": [
        "X2, Y2 = gen_all(\n",
        "                 quantity=10000,\n",
        "                 length=25,\n",
        "                 motifs=motifs2,\n",
        "                 )\n",
        "X250, Y250 = gen_all(\n",
        "                 quantity=1000,\n",
        "                 length=250,\n",
        "                 motifs=motifs2,\n",
        "                 )"
      ],
      "metadata": {
        "colab": {
          "base_uri": "https://localhost:8080/"
        },
        "id": "Oox_3Jg422fz",
        "outputId": "a6c1a683-0bb5-47b1-bc43-95a27f358e87"
      },
      "execution_count": null,
      "outputs": [
        {
          "output_type": "stream",
          "name": "stdout",
          "text": [
            "mean: -4.959106458812812e-09, std: 1.0, var: 1.0000001192092896\n",
            "torch.Size([10000, 4, 25])\n",
            "mean: -8.201599399626502e-08, std: 1.0, var: 0.9999999403953552\n",
            "torch.Size([1000, 4, 250])\n"
          ]
        }
      ]
    },
    {
      "cell_type": "markdown",
      "metadata": {
        "id": "zA_emzqhQk5K"
      },
      "source": [
        "## Sanity check tests"
      ]
    },
    {
      "cell_type": "code",
      "source": [
        "plt.hist(Yraw, bins=50)"
      ],
      "metadata": {
        "colab": {
          "base_uri": "https://localhost:8080/",
          "height": 827
        },
        "id": "0nTtab-GqPVU",
        "outputId": "05eca62a-3f61-4617-d209-2ffc14e9bb01"
      },
      "execution_count": null,
      "outputs": [
        {
          "output_type": "execute_result",
          "data": {
            "text/plain": [
              "(array([2.3903e+04, 0.0000e+00, 0.0000e+00, 0.0000e+00, 0.0000e+00,\n",
              "        0.0000e+00, 0.0000e+00, 0.0000e+00, 0.0000e+00, 0.0000e+00,\n",
              "        0.0000e+00, 0.0000e+00, 0.0000e+00, 9.8390e+03, 0.0000e+00,\n",
              "        0.0000e+00, 1.8152e+04, 0.0000e+00, 0.0000e+00, 0.0000e+00,\n",
              "        0.0000e+00, 0.0000e+00, 0.0000e+00, 0.0000e+00, 0.0000e+00,\n",
              "        0.0000e+00, 6.5000e+02, 0.0000e+00, 0.0000e+00, 0.0000e+00,\n",
              "        3.2510e+03, 0.0000e+00, 0.0000e+00, 3.8270e+03, 0.0000e+00,\n",
              "        0.0000e+00, 0.0000e+00, 0.0000e+00, 0.0000e+00, 0.0000e+00,\n",
              "        0.0000e+00, 0.0000e+00, 0.0000e+00, 2.0000e+01, 0.0000e+00,\n",
              "        0.0000e+00, 1.6600e+02, 0.0000e+00, 0.0000e+00, 1.9200e+02]),\n",
              " array([ 0.        ,  0.89999998,  1.79999995,  2.70000005,  3.5999999 ,\n",
              "         4.5       ,  5.4000001 ,  6.30000019,  7.19999981,  8.10000038,\n",
              "         9.        ,  9.89999962, 10.80000019, 11.69999981, 12.60000038,\n",
              "        13.5       , 14.39999962, 15.30000019, 16.20000076, 17.10000038,\n",
              "        18.        , 18.89999962, 19.79999924, 20.70000076, 21.60000038,\n",
              "        22.5       , 23.39999962, 24.29999924, 25.20000076, 26.10000038,\n",
              "        27.        , 27.89999962, 28.79999924, 29.70000076, 30.60000038,\n",
              "        31.5       , 32.40000153, 33.29999924, 34.20000076, 35.09999847,\n",
              "        36.        , 36.90000153, 37.79999924, 38.70000076, 39.59999847,\n",
              "        40.5       , 41.40000153, 42.29999924, 43.20000076, 44.09999847,\n",
              "        45.        ]),\n",
              " <BarContainer object of 50 artists>)"
            ]
          },
          "metadata": {},
          "execution_count": 11
        },
        {
          "output_type": "display_data",
          "data": {
            "text/plain": [
              "<Figure size 640x480 with 1 Axes>"
            ],
            "image/png": "[encoded data removed]"
          },
          "metadata": {}
        }
      ]
    },
    {
      "cell_type": "code",
      "source": [
        "# Y_np = Y.numpy()\n",
        "# plt.hist(Y_np, bins=50)"
      ],
      "metadata": {
        "id": "O0hnlYgWpTYZ"
      },
      "execution_count": null,
      "outputs": []
    },
    {
      "cell_type": "code",
      "source": [
        "print(all([len(seq)==8 for seq in Xraw]))\n",
        "print(len(Xraw))\n",
        "print(len(Yraw))\n",
        "print(all([Yraw[i]==1.0 for i in range(len(Xraw)) if 'TAT' in Xraw[i]]))\n",
        "print(all([Yraw[i]==0.0 for i in range(len(Xraw)) if 'TAT' not in Xraw[i]]))\n",
        "# for i in range(len(Xraw)):\n",
        "#   if 'TAT' in Xraw[i]:\n",
        "#     if Yraw[i]!=1.0:\n",
        "#       print(Xraw[i], Yraw[i])\n",
        "\n"
      ],
      "metadata": {
        "colab": {
          "base_uri": "https://localhost:8080/"
        },
        "id": "IUZZ_Huvr1dr",
        "outputId": "70a298d0-a469-48e2-bb8a-5f3e8faaf0a7"
      },
      "execution_count": null,
      "outputs": [
        {
          "output_type": "stream",
          "name": "stdout",
          "text": [
            "True\n",
            "60000\n",
            "60000\n",
            "False\n",
            "False\n"
          ]
        }
      ]
    },
    {
      "cell_type": "code",
      "source": [],
      "metadata": {
        "id": "me9KcJqQp5Tg"
      },
      "execution_count": null,
      "outputs": []
    },
    {
      "cell_type": "markdown",
      "metadata": {
        "id": "cazKa1B23eMn"
      },
      "source": [
        "# 2. Building Datasets and Dataloaders + Encoding Data"
      ]
    },
    {
      "cell_type": "markdown",
      "metadata": {
        "id": "6E7LXnrRO7Ao"
      },
      "source": [
        "## Sequence Datasets + DLs"
      ]
    },
    {
      "cell_type": "code",
      "execution_count": null,
      "metadata": {
        "id": "v9pwPJYtqmEE"
      },
      "outputs": [],
      "source": [
        "class SeqDatasetOHE(Dataset):\n",
        "    def __init__(self,\n",
        "                 df,\n",
        "                 seq_col='seq',\n",
        "                 target_col='score'\n",
        "                ):\n",
        "\n",
        "        self.ohe_seqs = df[0]\n",
        "        self.seq_len = len(self.ohe_seqs[0])\n",
        "        self.labels = df[1].unsqueeze(1)\n",
        "\n",
        "    def __len__(self): return len(self.ohe_seqs)\n",
        "\n",
        "    def __getitem__(self,idx):\n",
        "        # Given an index, return a tuple of an X with it's associated Y\n",
        "        # This is called inside DataLoader\n",
        "        seq = self.ohe_seqs[idx]\n",
        "        label = self.labels[idx]\n",
        "\n",
        "        return seq, label\n",
        "def build_dataset(X, Y):\n",
        "  n1 = int(0.8*len(X))\n",
        "  n2 = int(0.9*len(X))\n",
        "  Xtr = X[:n1]\n",
        "  Ytr = Y[:n1]\n",
        "  Xdev = X[n1:n2]\n",
        "  Ydev = Y[n1:n2]\n",
        "  Xte = X[n2:]\n",
        "  Yte = Y[n2:]\n",
        "  return (Xtr, Ytr), (Xdev, Ydev), (Xte, Yte)\n",
        "\n",
        "#data loaders\n",
        "def build_dataloaders(trainData,\n",
        "                      valData,\n",
        "                      testData,\n",
        "                      batch_size = 200\n",
        "                      ):\n",
        "\n",
        "  train_dl = DataLoader(trainData, batch_size=batch_size)\n",
        "  val_dl = DataLoader(valData, batch_size=batch_size)\n",
        "\n",
        "  return train_dl, val_dl"
      ]
    },
    {
      "cell_type": "code",
      "source": [
        "def build_all(X, Y):\n",
        "  train_df, val_df, test_df = build_dataset(X, Y)\n",
        "\n",
        "  train_ds = SeqDatasetOHE(train_df,seq_col='seq',target_col='score')\n",
        "  val_ds = SeqDatasetOHE(val_df,seq_col='seq',target_col='score')\n",
        "  test_ds = SeqDatasetOHE(test_df,seq_col='seq',target_col='score')\n",
        "\n",
        "  train_dl, val_dl = build_dataloaders(train_ds, val_ds, test_ds)\n",
        "  return train_dl, val_dl"
      ],
      "metadata": {
        "id": "BjB62CxOriOv"
      },
      "execution_count": null,
      "outputs": []
    },
    {
      "cell_type": "markdown",
      "source": [
        "## Instance"
      ],
      "metadata": {
        "id": "Lnv6NNQMfqKP"
      }
    },
    {
      "cell_type": "code",
      "execution_count": null,
      "metadata": {
        "id": "DPY6j75_GJtd"
      },
      "outputs": [],
      "source": [
        "# train_df, val_df, test_df = build_dataset(X, Y)\n",
        "\n",
        "# train_ds1 = SeqDatasetOHE(train_df,seq_col='seq',target_col='score')\n",
        "# val_ds1 = SeqDatasetOHE(val_df,seq_col='seq',target_col='score')\n",
        "# test_ds1 = SeqDatasetOHE(test_df,seq_col='seq',target_col='score')\n",
        "#\n",
        "# dl1 is 1 motif 8 len\n",
        "# tr_dl1, val_dl1 = build_all(X, Y)\n",
        "# dl2 is 3 motif 8 len\n",
        "tr_dl2, val_dl2 = build_all(X, Y)\n",
        "# dl3 is 3 motif 25 len\n",
        "tr_dl3, val_dl3 = build_all(X2, Y2)\n",
        "tr_dl4, val_dl4 = build_all(X250, Y250)"
      ]
    },
    {
      "cell_type": "markdown",
      "source": [
        "## sanity check"
      ],
      "metadata": {
        "id": "tc-RlmVqj_WE"
      }
    },
    {
      "cell_type": "code",
      "source": [
        "for xb, yb in tr_dl2:\n",
        "  decoded_xb = torch.argmax(xb, dim=1)\n",
        "  strings = []\n",
        "  for seq in decoded_xb:\n",
        "    seq_str = ''\n",
        "    for base in seq:\n",
        "      base = base.item()\n",
        "      seq_str += itob[base]\n",
        "    strings.append(seq_str)\n",
        "  ys = []\n",
        "  for item in yb:\n",
        "    item = item.item()\n",
        "    ys.append(item)\n",
        "  testzips = zip(strings, ys)\n",
        "  assert all([tup[1] != 0 for tup in testzips if tup[0] == 'TAT']), 'data is wrongly labelled'\n",
        "  assert all([tup[0] != 'TAT' for tup in testzips if tup[1] != 1])\n",
        "  assert all([tup[0] == 'TAT' for tup in testzips if tup[1] == 1])"
      ],
      "metadata": {
        "id": "GzRw9VI5jVhA"
      },
      "execution_count": null,
      "outputs": []
    },
    {
      "cell_type": "markdown",
      "metadata": {
        "id": "YYjk5m4Z6Qaf"
      },
      "source": [
        "# 3. Define Training Functions"
      ]
    },
    {
      "cell_type": "code",
      "execution_count": null,
      "metadata": {
        "id": "fixJ7UKxTpPB"
      },
      "outputs": [],
      "source": [
        "import torch.optim as optim\n",
        "\n",
        "def loss_batch(model=None, xb=None, yb=None, loss_func=None, opt=None, verbose=False, device=None, reg=None, lamb=None):\n",
        "  # if no optimizer provided, skip backprop\n",
        "  xb_out = model(xb)\n",
        "  # print(yb.shape)\n",
        "  yb = torch.flatten(yb, 1)\n",
        "  # print(yb.shape)\n",
        "\n",
        "  if reg:\n",
        "    if not lamb:\n",
        "      lamb = 0.001\n",
        "    # l1_reg = Tensor(0)\n",
        "    # for param in model.parameters():\n",
        "    #   l1_reg += lamb * abs(param)\n",
        "\n",
        "    loss = loss_func(xb_out, yb) + reg(model.parameters(), lamb)\n",
        "  else:\n",
        "    loss = loss_func(xb_out, yb)\n",
        "\n",
        "  if opt:\n",
        "    loss.backward()\n",
        "    opt.step()\n",
        "    opt.zero_grad()\n",
        "\n",
        "  return loss.item(), len(xb)\n",
        "\n",
        "def train_step(model=None, train_dl=None, loss_func=None, opt=None, device=None, reg=None, lamb=None):\n",
        "  model.train()\n",
        "  tl = [] # training losses\n",
        "  ns = [] # batch sizes\n",
        "\n",
        "  for xb, yb in train_dl:\n",
        "    xb, yb = xb.to(device), yb.to(device)\n",
        "    t, n = loss_batch(model, xb, yb, loss_func, opt = opt, device=device, reg=reg, lamb=lamb)\n",
        "    tl.append(t)\n",
        "    ns.append(n)\n",
        "\n",
        "  # train_loss = np.sum(np.multiply(tl, ns)) / np.sum(ns)\n",
        "  train_loss = tl[-1]\n",
        "\n",
        "\n",
        "  return train_loss\n",
        "\n",
        "def val_step(model=None, val_dl=None, loss_func=None, device=None):\n",
        "  model.eval()\n",
        "  with torch.no_grad():\n",
        "    vl = []\n",
        "    ns = []\n",
        "\n",
        "    for xb, yb in val_dl:\n",
        "      xb, yb = xb.to(device), yb.to(device)\n",
        "      v, n = loss_batch(model, xb, yb, loss_func, device=device)\n",
        "      vl.append(v)\n",
        "      ns.append(n)\n",
        "\n",
        "  # val_loss = np.sum(np.multiply(vl, ns)) / np.sum(ns)\n",
        "  val_loss = vl[-1]\n",
        "\n",
        "  return val_loss\n",
        "\n",
        "def fit(epochs=None, model=None, loss_func=None, opt=None, train_dl=None, val_dl=None, device=None, reg=None, lamb=None):\n",
        "  train_losses = []\n",
        "  val_losses = []\n",
        "  print(opt)\n",
        "  for epoch in range(epochs):\n",
        "    train_loss = train_step(model, train_dl, loss_func, opt, device=device, reg=reg, lamb=lamb)\n",
        "    train_losses.append(train_loss)\n",
        "    val_loss = val_step(model=model, val_dl=val_dl, loss_func=loss_func, device=device)\n",
        "    val_losses.append(val_loss)\n",
        "\n",
        "    print(f\"E{epoch} | train loss: {train_loss:.3f} | val loss: {val_loss:.3f}\")\n",
        "\n",
        "  return train_losses, val_losses\n",
        "\n",
        "def run(train_dl=None, val_dl=None, model=None, lr=0.01, epochs = 100, loss_func=None, opt=None, device=None, reg=None, lamb=None):\n",
        "  if not opt:\n",
        "    opt = optim.Adam(model.parameters(), lr=lr)\n",
        "  if not loss_func:\n",
        "    loss_func = nn.MSELoss()\n",
        "\n",
        "  train_losses, val_losses = fit(epochs,\n",
        "                     model,\n",
        "                     loss_func,\n",
        "                     opt,\n",
        "                     train_dl,\n",
        "                     val_dl,\n",
        "                     device=device,\n",
        "                     reg=reg,\n",
        "                     lamb=lamb\n",
        "                     )\n",
        "  return train_losses, val_losses\n"
      ]
    },
    {
      "cell_type": "code",
      "source": [
        "def l1_reg(params, l1_lambda):\n",
        "  l1_norm = sum(p.abs().sum() for p in params)\n",
        "  return l1_lambda*l1_norm"
      ],
      "metadata": {
        "id": "VGDgIKfvOB2d"
      },
      "execution_count": null,
      "outputs": []
    },
    {
      "cell_type": "markdown",
      "metadata": {
        "id": "-AzAd12w6gH9"
      },
      "source": [
        "# 4. CNN"
      ]
    },
    {
      "cell_type": "code",
      "execution_count": null,
      "metadata": {
        "id": "Oye6GdAeQCbn"
      },
      "outputs": [],
      "source": [
        "class ConvNet(nn.Module):\n",
        "    def __init__(self,\n",
        "                 seq_length,\n",
        "                 num_filters = 32,\n",
        "                 kernel_size = 7,\n",
        "                 pool_size = 12,\n",
        "                 pool_stride = 4,\n",
        "                 ):\n",
        "        super(ConvNet, self).__init__()\n",
        "        self.model = nn.Sequential(\n",
        "          nn.Conv1d(4, num_filters, kernel_size=kernel_size),\n",
        "          # nn.ReLU(),\n",
        "          # nn.Dropout(p=0.5),\n",
        "\n",
        "          torch.nn.Flatten(),\n",
        "\n",
        "          # nn.MaxPool1d(kernel_size=num_filters*(seq_length-kernel_size + 1) // 2, stride=num_filters*(seq_length-kernel_size + 1) // 4),\n",
        "          nn.MaxPool1d(pool_size, pool_stride),\n",
        "          # nn.MaxPool1d(num_filters*(seq_length-kernel_size + 1)),\n",
        "\n",
        "          nn.Linear(math.floor(((num_filters*(seq_length-kernel_size + 1) - pool_size) / pool_stride) + 1), 1),\n",
        "          # nn.ReLU(),\n",
        "          # nn.Sigmoid()\n",
        "        )\n",
        "\n",
        "        with torch.no_grad():\n",
        "          self.model[0].weight *= 0.1\n",
        "\n",
        "\n",
        "        # self.loss = nn.MSELoss()\n",
        "        # self.conv = nn.Conv1d(4, 32, kernel_size, stride=1, padding=1)\n",
        "        # self.relu = nn.ReLU()\n",
        "        # self.maxpool = nn.MaxPool1d(length - kernel_size + 2)\n",
        "        # self.flatten = torch.nn.Flatten(1)\n",
        "        # self.fc = nn.Linear(32, 1)\n",
        "        # self.fctest1 = nn.Linear(28, 100)\n",
        "        # self.fctest2 = nn.Linear(100, 1)\n",
        "    def forward(self, x):\n",
        "        x = self.model(x)\n",
        "        return x"
      ]
    },
    {
      "cell_type": "code",
      "execution_count": null,
      "metadata": {
        "id": "KZbx_piI5nIb",
        "colab": {
          "base_uri": "https://localhost:8080/",
          "height": 240
        },
        "outputId": "f8cef522-94ff-48e7-99d9-b463a213a1ca"
      },
      "outputs": [
        {
          "output_type": "error",
          "ename": "NameError",
          "evalue": "ignored",
          "traceback": [
            "\u001b[0;31m---------------------------------------------------------------------------\u001b[0m",
            "\u001b[0;31mNameError\u001b[0m                                 Traceback (most recent call last)",
            "\u001b[0;32m<ipython-input-21-c84a22b76388>\u001b[0m in \u001b[0;36m<cell line: 7>\u001b[0;34m()\u001b[0m\n\u001b[1;32m      6\u001b[0m \u001b[0mmodel_cnn1\u001b[0m\u001b[0;34m.\u001b[0m\u001b[0mto\u001b[0m\u001b[0;34m(\u001b[0m\u001b[0mDEVICE\u001b[0m\u001b[0;34m)\u001b[0m\u001b[0;34m\u001b[0m\u001b[0;34m\u001b[0m\u001b[0m\n\u001b[1;32m      7\u001b[0m cnn_train_losses, cnn_val_losses = run(\n\u001b[0;32m----> 8\u001b[0;31m     \u001b[0mtr_dl1\u001b[0m\u001b[0;34m,\u001b[0m\u001b[0;34m\u001b[0m\u001b[0;34m\u001b[0m\u001b[0m\n\u001b[0m\u001b[1;32m      9\u001b[0m     \u001b[0mval_dl1\u001b[0m\u001b[0;34m,\u001b[0m\u001b[0;34m\u001b[0m\u001b[0;34m\u001b[0m\u001b[0m\n\u001b[1;32m     10\u001b[0m     \u001b[0mmodel_cnn1\u001b[0m\u001b[0;34m,\u001b[0m\u001b[0;34m\u001b[0m\u001b[0;34m\u001b[0m\u001b[0m\n",
            "\u001b[0;31mNameError\u001b[0m: name 'tr_dl1' is not defined"
          ]
        }
      ],
      "source": [
        "model_cnn1 = ConvNet(seq_length=8, kernel_size=3, num_filters=3)\n",
        "opt = optim.Adam(model_cnn1.parameters(), lr=0.001)\n",
        "# opt = optim.SGD(model_cnn1.parameters(), lr=0.25)\n",
        "# scheduler = torch.optim.lr_scheduler.StepLR(opt, step_size=30, gamma=0.1)\n",
        "# run the model\n",
        "model_cnn1.to(DEVICE)\n",
        "cnn_train_losses, cnn_val_losses = run(\n",
        "    tr_dl1,\n",
        "    val_dl1,\n",
        "    model_cnn1,\n",
        "    opt = opt,\n",
        "    device = DEVICE,\n",
        "    epochs = 400,\n",
        "    reg=l1_reg,\n",
        "    lamb=0.01\n",
        ")"
      ]
    },
    {
      "cell_type": "code",
      "source": [
        "model_cnn2 = ConvNet(seq_length=8, kernel_size=3, num_filters=32)\n",
        "opt = optim.Adam(model_cnn2.parameters(), lr=0.01)\n",
        "# opt = optim.SGD(model_cnn.parameters(), lr=0.25)\n",
        "# scheduler = torch.optim.lr_scheduler.StepLR(opt, step_size=30, gamma=0.1)\n",
        "# run the model\n",
        "model_cnn2.to(DEVICE)\n",
        "cnn_train_losses, cnn_val_losses = run(\n",
        "    tr_dl2,\n",
        "    val_dl2,\n",
        "    model_cnn2,\n",
        "    opt = opt,\n",
        "    device = DEVICE,\n",
        "    epochs = 400,\n",
        "    reg=l1_reg,\n",
        "    lamb=0.0001\n",
        ")"
      ],
      "metadata": {
        "id": "XdnzqYBFqlvC",
        "colab": {
          "base_uri": "https://localhost:8080/",
          "height": 800
        },
        "outputId": "ca9a2b9a-9319-4e23-bf6f-21e6710f7670"
      },
      "execution_count": null,
      "outputs": [
        {
          "output_type": "stream",
          "name": "stdout",
          "text": [
            "Adam (\n",
            "Parameter Group 0\n",
            "    amsgrad: False\n",
            "    betas: (0.9, 0.999)\n",
            "    capturable: False\n",
            "    differentiable: False\n",
            "    eps: 1e-08\n",
            "    foreach: None\n",
            "    fused: None\n",
            "    lr: 0.01\n",
            "    maximize: False\n",
            "    weight_decay: 0\n",
            ")\n",
            "E0 | train loss: 0.081 | val loss: 0.095\n",
            "E1 | train loss: 0.059 | val loss: 0.066\n",
            "E2 | train loss: 0.052 | val loss: 0.054\n",
            "E3 | train loss: 0.050 | val loss: 0.049\n",
            "E4 | train loss: 0.050 | val loss: 0.043\n",
            "E5 | train loss: 0.047 | val loss: 0.045\n",
            "E6 | train loss: 0.042 | val loss: 0.038\n",
            "E7 | train loss: 0.038 | val loss: 0.038\n",
            "E8 | train loss: 0.035 | val loss: 0.039\n",
            "E9 | train loss: 0.034 | val loss: 0.039\n"
          ]
        },
        {
          "output_type": "error",
          "ename": "KeyboardInterrupt",
          "evalue": "ignored",
          "traceback": [
            "\u001b[0;31m---------------------------------------------------------------------------\u001b[0m",
            "\u001b[0;31mKeyboardInterrupt\u001b[0m                         Traceback (most recent call last)",
            "\u001b[0;32m<ipython-input-33-ec021be4402b>\u001b[0m in \u001b[0;36m<cell line: 7>\u001b[0;34m()\u001b[0m\n\u001b[1;32m      5\u001b[0m \u001b[0;31m# run the model\u001b[0m\u001b[0;34m\u001b[0m\u001b[0;34m\u001b[0m\u001b[0m\n\u001b[1;32m      6\u001b[0m \u001b[0mmodel_cnn2\u001b[0m\u001b[0;34m.\u001b[0m\u001b[0mto\u001b[0m\u001b[0;34m(\u001b[0m\u001b[0mDEVICE\u001b[0m\u001b[0;34m)\u001b[0m\u001b[0;34m\u001b[0m\u001b[0;34m\u001b[0m\u001b[0m\n\u001b[0;32m----> 7\u001b[0;31m cnn_train_losses, cnn_val_losses = run(\n\u001b[0m\u001b[1;32m      8\u001b[0m     \u001b[0mtr_dl2\u001b[0m\u001b[0;34m,\u001b[0m\u001b[0;34m\u001b[0m\u001b[0;34m\u001b[0m\u001b[0m\n\u001b[1;32m      9\u001b[0m     \u001b[0mval_dl2\u001b[0m\u001b[0;34m,\u001b[0m\u001b[0;34m\u001b[0m\u001b[0;34m\u001b[0m\u001b[0m\n",
            "\u001b[0;32m<ipython-input-18-f1f745464072>\u001b[0m in \u001b[0;36mrun\u001b[0;34m(train_dl, val_dl, model, lr, epochs, loss_func, opt, device, reg, lamb)\u001b[0m\n\u001b[1;32m     80\u001b[0m     \u001b[0mloss_func\u001b[0m \u001b[0;34m=\u001b[0m \u001b[0mnn\u001b[0m\u001b[0;34m.\u001b[0m\u001b[0mMSELoss\u001b[0m\u001b[0;34m(\u001b[0m\u001b[0;34m)\u001b[0m\u001b[0;34m\u001b[0m\u001b[0;34m\u001b[0m\u001b[0m\n\u001b[1;32m     81\u001b[0m \u001b[0;34m\u001b[0m\u001b[0m\n\u001b[0;32m---> 82\u001b[0;31m   train_losses, val_losses = fit(epochs,\n\u001b[0m\u001b[1;32m     83\u001b[0m                      \u001b[0mmodel\u001b[0m\u001b[0;34m,\u001b[0m\u001b[0;34m\u001b[0m\u001b[0;34m\u001b[0m\u001b[0m\n\u001b[1;32m     84\u001b[0m                      \u001b[0mloss_func\u001b[0m\u001b[0;34m,\u001b[0m\u001b[0;34m\u001b[0m\u001b[0;34m\u001b[0m\u001b[0m\n",
            "\u001b[0;32m<ipython-input-18-f1f745464072>\u001b[0m in \u001b[0;36mfit\u001b[0;34m(epochs, model, loss_func, opt, train_dl, val_dl, device, reg, lamb)\u001b[0m\n\u001b[1;32m     65\u001b[0m   \u001b[0mprint\u001b[0m\u001b[0;34m(\u001b[0m\u001b[0mopt\u001b[0m\u001b[0;34m)\u001b[0m\u001b[0;34m\u001b[0m\u001b[0;34m\u001b[0m\u001b[0m\n\u001b[1;32m     66\u001b[0m   \u001b[0;32mfor\u001b[0m \u001b[0mepoch\u001b[0m \u001b[0;32min\u001b[0m \u001b[0mrange\u001b[0m\u001b[0;34m(\u001b[0m\u001b[0mepochs\u001b[0m\u001b[0;34m)\u001b[0m\u001b[0;34m:\u001b[0m\u001b[0;34m\u001b[0m\u001b[0;34m\u001b[0m\u001b[0m\n\u001b[0;32m---> 67\u001b[0;31m     \u001b[0mtrain_loss\u001b[0m \u001b[0;34m=\u001b[0m \u001b[0mtrain_step\u001b[0m\u001b[0;34m(\u001b[0m\u001b[0mmodel\u001b[0m\u001b[0;34m,\u001b[0m \u001b[0mtrain_dl\u001b[0m\u001b[0;34m,\u001b[0m \u001b[0mloss_func\u001b[0m\u001b[0;34m,\u001b[0m \u001b[0mopt\u001b[0m\u001b[0;34m,\u001b[0m \u001b[0mdevice\u001b[0m\u001b[0;34m=\u001b[0m\u001b[0mdevice\u001b[0m\u001b[0;34m,\u001b[0m \u001b[0mreg\u001b[0m\u001b[0;34m=\u001b[0m\u001b[0mreg\u001b[0m\u001b[0;34m,\u001b[0m \u001b[0mlamb\u001b[0m\u001b[0;34m=\u001b[0m\u001b[0mlamb\u001b[0m\u001b[0;34m)\u001b[0m\u001b[0;34m\u001b[0m\u001b[0;34m\u001b[0m\u001b[0m\n\u001b[0m\u001b[1;32m     68\u001b[0m     \u001b[0mtrain_losses\u001b[0m\u001b[0;34m.\u001b[0m\u001b[0mappend\u001b[0m\u001b[0;34m(\u001b[0m\u001b[0mtrain_loss\u001b[0m\u001b[0;34m)\u001b[0m\u001b[0;34m\u001b[0m\u001b[0;34m\u001b[0m\u001b[0m\n\u001b[1;32m     69\u001b[0m     \u001b[0mval_loss\u001b[0m \u001b[0;34m=\u001b[0m \u001b[0mval_step\u001b[0m\u001b[0;34m(\u001b[0m\u001b[0mmodel\u001b[0m\u001b[0;34m=\u001b[0m\u001b[0mmodel\u001b[0m\u001b[0;34m,\u001b[0m \u001b[0mval_dl\u001b[0m\u001b[0;34m=\u001b[0m\u001b[0mval_dl\u001b[0m\u001b[0;34m,\u001b[0m \u001b[0mloss_func\u001b[0m\u001b[0;34m=\u001b[0m\u001b[0mloss_func\u001b[0m\u001b[0;34m,\u001b[0m \u001b[0mdevice\u001b[0m\u001b[0;34m=\u001b[0m\u001b[0mdevice\u001b[0m\u001b[0;34m)\u001b[0m\u001b[0;34m\u001b[0m\u001b[0;34m\u001b[0m\u001b[0m\n",
            "\u001b[0;32m<ipython-input-18-f1f745464072>\u001b[0m in \u001b[0;36mtrain_step\u001b[0;34m(model, train_dl, loss_func, opt, device, reg, lamb)\u001b[0m\n\u001b[1;32m     33\u001b[0m   \u001b[0;32mfor\u001b[0m \u001b[0mxb\u001b[0m\u001b[0;34m,\u001b[0m \u001b[0myb\u001b[0m \u001b[0;32min\u001b[0m \u001b[0mtrain_dl\u001b[0m\u001b[0;34m:\u001b[0m\u001b[0;34m\u001b[0m\u001b[0;34m\u001b[0m\u001b[0m\n\u001b[1;32m     34\u001b[0m     \u001b[0mxb\u001b[0m\u001b[0;34m,\u001b[0m \u001b[0myb\u001b[0m \u001b[0;34m=\u001b[0m \u001b[0mxb\u001b[0m\u001b[0;34m.\u001b[0m\u001b[0mto\u001b[0m\u001b[0;34m(\u001b[0m\u001b[0mdevice\u001b[0m\u001b[0;34m)\u001b[0m\u001b[0;34m,\u001b[0m \u001b[0myb\u001b[0m\u001b[0;34m.\u001b[0m\u001b[0mto\u001b[0m\u001b[0;34m(\u001b[0m\u001b[0mdevice\u001b[0m\u001b[0;34m)\u001b[0m\u001b[0;34m\u001b[0m\u001b[0;34m\u001b[0m\u001b[0m\n\u001b[0;32m---> 35\u001b[0;31m     \u001b[0mt\u001b[0m\u001b[0;34m,\u001b[0m \u001b[0mn\u001b[0m \u001b[0;34m=\u001b[0m \u001b[0mloss_batch\u001b[0m\u001b[0;34m(\u001b[0m\u001b[0mmodel\u001b[0m\u001b[0;34m,\u001b[0m \u001b[0mxb\u001b[0m\u001b[0;34m,\u001b[0m \u001b[0myb\u001b[0m\u001b[0;34m,\u001b[0m \u001b[0mloss_func\u001b[0m\u001b[0;34m,\u001b[0m \u001b[0mopt\u001b[0m \u001b[0;34m=\u001b[0m \u001b[0mopt\u001b[0m\u001b[0;34m,\u001b[0m \u001b[0mdevice\u001b[0m\u001b[0;34m=\u001b[0m\u001b[0mdevice\u001b[0m\u001b[0;34m,\u001b[0m \u001b[0mreg\u001b[0m\u001b[0;34m=\u001b[0m\u001b[0mreg\u001b[0m\u001b[0;34m,\u001b[0m \u001b[0mlamb\u001b[0m\u001b[0;34m=\u001b[0m\u001b[0mlamb\u001b[0m\u001b[0;34m)\u001b[0m\u001b[0;34m\u001b[0m\u001b[0;34m\u001b[0m\u001b[0m\n\u001b[0m\u001b[1;32m     36\u001b[0m     \u001b[0mtl\u001b[0m\u001b[0;34m.\u001b[0m\u001b[0mappend\u001b[0m\u001b[0;34m(\u001b[0m\u001b[0mt\u001b[0m\u001b[0;34m)\u001b[0m\u001b[0;34m\u001b[0m\u001b[0;34m\u001b[0m\u001b[0m\n\u001b[1;32m     37\u001b[0m     \u001b[0mns\u001b[0m\u001b[0;34m.\u001b[0m\u001b[0mappend\u001b[0m\u001b[0;34m(\u001b[0m\u001b[0mn\u001b[0m\u001b[0;34m)\u001b[0m\u001b[0;34m\u001b[0m\u001b[0;34m\u001b[0m\u001b[0m\n",
            "\u001b[0;32m<ipython-input-18-f1f745464072>\u001b[0m in \u001b[0;36mloss_batch\u001b[0;34m(model, xb, yb, loss_func, opt, verbose, device, reg, lamb)\u001b[0m\n\u001b[1;32m     20\u001b[0m \u001b[0;34m\u001b[0m\u001b[0m\n\u001b[1;32m     21\u001b[0m   \u001b[0;32mif\u001b[0m \u001b[0mopt\u001b[0m\u001b[0;34m:\u001b[0m\u001b[0;34m\u001b[0m\u001b[0;34m\u001b[0m\u001b[0m\n\u001b[0;32m---> 22\u001b[0;31m     \u001b[0mloss\u001b[0m\u001b[0;34m.\u001b[0m\u001b[0mbackward\u001b[0m\u001b[0;34m(\u001b[0m\u001b[0;34m)\u001b[0m\u001b[0;34m\u001b[0m\u001b[0;34m\u001b[0m\u001b[0m\n\u001b[0m\u001b[1;32m     23\u001b[0m     \u001b[0mopt\u001b[0m\u001b[0;34m.\u001b[0m\u001b[0mstep\u001b[0m\u001b[0;34m(\u001b[0m\u001b[0;34m)\u001b[0m\u001b[0;34m\u001b[0m\u001b[0;34m\u001b[0m\u001b[0m\n\u001b[1;32m     24\u001b[0m     \u001b[0mopt\u001b[0m\u001b[0;34m.\u001b[0m\u001b[0mzero_grad\u001b[0m\u001b[0;34m(\u001b[0m\u001b[0;34m)\u001b[0m\u001b[0;34m\u001b[0m\u001b[0;34m\u001b[0m\u001b[0m\n",
            "\u001b[0;32m/usr/local/lib/python3.10/dist-packages/torch/_tensor.py\u001b[0m in \u001b[0;36mbackward\u001b[0;34m(self, gradient, retain_graph, create_graph, inputs)\u001b[0m\n\u001b[1;32m    485\u001b[0m                 \u001b[0minputs\u001b[0m\u001b[0;34m=\u001b[0m\u001b[0minputs\u001b[0m\u001b[0;34m,\u001b[0m\u001b[0;34m\u001b[0m\u001b[0;34m\u001b[0m\u001b[0m\n\u001b[1;32m    486\u001b[0m             )\n\u001b[0;32m--> 487\u001b[0;31m         torch.autograd.backward(\n\u001b[0m\u001b[1;32m    488\u001b[0m             \u001b[0mself\u001b[0m\u001b[0;34m,\u001b[0m \u001b[0mgradient\u001b[0m\u001b[0;34m,\u001b[0m \u001b[0mretain_graph\u001b[0m\u001b[0;34m,\u001b[0m \u001b[0mcreate_graph\u001b[0m\u001b[0;34m,\u001b[0m \u001b[0minputs\u001b[0m\u001b[0;34m=\u001b[0m\u001b[0minputs\u001b[0m\u001b[0;34m\u001b[0m\u001b[0;34m\u001b[0m\u001b[0m\n\u001b[1;32m    489\u001b[0m         )\n",
            "\u001b[0;32m/usr/local/lib/python3.10/dist-packages/torch/autograd/__init__.py\u001b[0m in \u001b[0;36mbackward\u001b[0;34m(tensors, grad_tensors, retain_graph, create_graph, grad_variables, inputs)\u001b[0m\n\u001b[1;32m    191\u001b[0m \u001b[0;34m\u001b[0m\u001b[0m\n\u001b[1;32m    192\u001b[0m     \u001b[0mgrad_tensors_\u001b[0m \u001b[0;34m=\u001b[0m \u001b[0m_tensor_or_tensors_to_tuple\u001b[0m\u001b[0;34m(\u001b[0m\u001b[0mgrad_tensors\u001b[0m\u001b[0;34m,\u001b[0m \u001b[0mlen\u001b[0m\u001b[0;34m(\u001b[0m\u001b[0mtensors\u001b[0m\u001b[0;34m)\u001b[0m\u001b[0;34m)\u001b[0m\u001b[0;34m\u001b[0m\u001b[0;34m\u001b[0m\u001b[0m\n\u001b[0;32m--> 193\u001b[0;31m     \u001b[0mgrad_tensors_\u001b[0m \u001b[0;34m=\u001b[0m \u001b[0m_make_grads\u001b[0m\u001b[0;34m(\u001b[0m\u001b[0mtensors\u001b[0m\u001b[0;34m,\u001b[0m \u001b[0mgrad_tensors_\u001b[0m\u001b[0;34m,\u001b[0m \u001b[0mis_grads_batched\u001b[0m\u001b[0;34m=\u001b[0m\u001b[0;32mFalse\u001b[0m\u001b[0;34m)\u001b[0m\u001b[0;34m\u001b[0m\u001b[0;34m\u001b[0m\u001b[0m\n\u001b[0m\u001b[1;32m    194\u001b[0m     \u001b[0;32mif\u001b[0m \u001b[0mretain_graph\u001b[0m \u001b[0;32mis\u001b[0m \u001b[0;32mNone\u001b[0m\u001b[0;34m:\u001b[0m\u001b[0;34m\u001b[0m\u001b[0;34m\u001b[0m\u001b[0m\n\u001b[1;32m    195\u001b[0m         \u001b[0mretain_graph\u001b[0m \u001b[0;34m=\u001b[0m \u001b[0mcreate_graph\u001b[0m\u001b[0;34m\u001b[0m\u001b[0;34m\u001b[0m\u001b[0m\n",
            "\u001b[0;32m/usr/local/lib/python3.10/dist-packages/torch/autograd/__init__.py\u001b[0m in \u001b[0;36m_make_grads\u001b[0;34m(outputs, grads, is_grads_batched)\u001b[0m\n\u001b[1;32m     85\u001b[0m         \u001b[0;32melif\u001b[0m \u001b[0mgrad\u001b[0m \u001b[0;32mis\u001b[0m \u001b[0;32mNone\u001b[0m\u001b[0;34m:\u001b[0m\u001b[0;34m\u001b[0m\u001b[0;34m\u001b[0m\u001b[0m\n\u001b[1;32m     86\u001b[0m             \u001b[0;32mif\u001b[0m \u001b[0mout\u001b[0m\u001b[0;34m.\u001b[0m\u001b[0mrequires_grad\u001b[0m\u001b[0;34m:\u001b[0m\u001b[0;34m\u001b[0m\u001b[0;34m\u001b[0m\u001b[0m\n\u001b[0;32m---> 87\u001b[0;31m                 \u001b[0;32mif\u001b[0m \u001b[0mout\u001b[0m\u001b[0;34m.\u001b[0m\u001b[0mnumel\u001b[0m\u001b[0;34m(\u001b[0m\u001b[0;34m)\u001b[0m \u001b[0;34m!=\u001b[0m \u001b[0;36m1\u001b[0m\u001b[0;34m:\u001b[0m\u001b[0;34m\u001b[0m\u001b[0;34m\u001b[0m\u001b[0m\n\u001b[0m\u001b[1;32m     88\u001b[0m                     \u001b[0;32mraise\u001b[0m \u001b[0mRuntimeError\u001b[0m\u001b[0;34m(\u001b[0m\u001b[0;34m\"grad can be implicitly created only for scalar outputs\"\u001b[0m\u001b[0;34m)\u001b[0m\u001b[0;34m\u001b[0m\u001b[0;34m\u001b[0m\u001b[0m\n\u001b[1;32m     89\u001b[0m                 \u001b[0mnew_grads\u001b[0m\u001b[0;34m.\u001b[0m\u001b[0mappend\u001b[0m\u001b[0;34m(\u001b[0m\u001b[0mtorch\u001b[0m\u001b[0;34m.\u001b[0m\u001b[0mones_like\u001b[0m\u001b[0;34m(\u001b[0m\u001b[0mout\u001b[0m\u001b[0;34m,\u001b[0m \u001b[0mmemory_format\u001b[0m\u001b[0;34m=\u001b[0m\u001b[0mtorch\u001b[0m\u001b[0;34m.\u001b[0m\u001b[0mpreserve_format\u001b[0m\u001b[0;34m)\u001b[0m\u001b[0;34m)\u001b[0m\u001b[0;34m\u001b[0m\u001b[0;34m\u001b[0m\u001b[0m\n",
            "\u001b[0;31mKeyboardInterrupt\u001b[0m: "
          ]
        }
      ]
    },
    {
      "cell_type": "code",
      "source": [
        "model_cnn3 = ConvNet(seq_length=25, kernel_size=3, num_filters=10)\n",
        "opt = optim.Adam(model_cnn3.parameters(), lr=0.01)\n",
        "# opt = optim.SGD(model_cnn.parameters(), lr=0.25)\n",
        "# scheduler = torch.optim.lr_scheduler.StepLR(opt, step_size=30, gamma=0.1)\n",
        "# run the model\n",
        "model_cnn3.to(DEVICE)\n",
        "cnn_train_losses, cnn_val_losses = run(\n",
        "    tr_dl3,\n",
        "    val_dl3,\n",
        "    model_cnn3,\n",
        "    opt = opt,\n",
        "    device = DEVICE,\n",
        "    epochs = 400,\n",
        "    reg=l1_reg,\n",
        "    lamb=0.0001\n",
        ")"
      ],
      "metadata": {
        "id": "PNMDP2n5zEUm"
      },
      "execution_count": null,
      "outputs": []
    },
    {
      "cell_type": "code",
      "source": [
        "model_cnn4 = ConvNet(seq_length=250, kernel_size=3, num_filters=32)\n",
        "opt = optim.Adam(model_cnn4.parameters(), lr=0.001)\n",
        "# opt = optim.SGD(model_cnn.parameters(), lr=0.25)\n",
        "# scheduler = torch.optim.lr_scheduler.StepLR(opt, step_size=30, gamma=0.1)\n",
        "# run the model\n",
        "model_cnn4.to(DEVICE)\n",
        "cnn_train_losses, cnn_val_losses = run(\n",
        "    tr_dl4,\n",
        "    val_dl4,\n",
        "    model_cnn4,\n",
        "    opt = opt,\n",
        "    device = DEVICE,\n",
        "    epochs = 1000,\n",
        "    # reg=l1_reg,\n",
        "    # lamb=0.0001\n",
        ")"
      ],
      "metadata": {
        "colab": {
          "base_uri": "https://localhost:8080/",
          "height": 1000
        },
        "id": "vrW26gEzhKWT",
        "outputId": "d7329129-608c-4d96-c017-c00cda773601"
      },
      "execution_count": null,
      "outputs": [
        {
          "output_type": "stream",
          "name": "stdout",
          "text": [
            "Adam (\n",
            "Parameter Group 0\n",
            "    amsgrad: False\n",
            "    betas: (0.9, 0.999)\n",
            "    capturable: False\n",
            "    differentiable: False\n",
            "    eps: 1e-08\n",
            "    foreach: None\n",
            "    fused: None\n",
            "    lr: 0.0001\n",
            "    maximize: False\n",
            "    weight_decay: 0\n",
            ")\n",
            "E0 | train loss: 1.326 | val loss: 1.004\n",
            "E1 | train loss: 1.307 | val loss: 0.995\n",
            "E2 | train loss: 1.289 | val loss: 0.986\n",
            "E3 | train loss: 1.272 | val loss: 0.979\n",
            "E4 | train loss: 1.256 | val loss: 0.972\n",
            "E5 | train loss: 1.241 | val loss: 0.966\n",
            "E6 | train loss: 1.226 | val loss: 0.960\n",
            "E7 | train loss: 1.213 | val loss: 0.956\n",
            "E8 | train loss: 1.200 | val loss: 0.952\n",
            "E9 | train loss: 1.189 | val loss: 0.948\n",
            "E10 | train loss: 1.179 | val loss: 0.946\n",
            "E11 | train loss: 1.169 | val loss: 0.944\n",
            "E12 | train loss: 1.160 | val loss: 0.942\n",
            "E13 | train loss: 1.152 | val loss: 0.941\n",
            "E14 | train loss: 1.145 | val loss: 0.941\n",
            "E15 | train loss: 1.139 | val loss: 0.941\n",
            "E16 | train loss: 1.133 | val loss: 0.941\n",
            "E17 | train loss: 1.128 | val loss: 0.941\n",
            "E18 | train loss: 1.124 | val loss: 0.941\n",
            "E19 | train loss: 1.120 | val loss: 0.942\n",
            "E20 | train loss: 1.116 | val loss: 0.943\n",
            "E21 | train loss: 1.113 | val loss: 0.943\n",
            "E22 | train loss: 1.110 | val loss: 0.944\n",
            "E23 | train loss: 1.107 | val loss: 0.945\n",
            "E24 | train loss: 1.105 | val loss: 0.946\n",
            "E25 | train loss: 1.103 | val loss: 0.947\n",
            "E26 | train loss: 1.101 | val loss: 0.948\n",
            "E27 | train loss: 1.099 | val loss: 0.949\n",
            "E28 | train loss: 1.098 | val loss: 0.950\n",
            "E29 | train loss: 1.096 | val loss: 0.951\n",
            "E30 | train loss: 1.095 | val loss: 0.952\n",
            "E31 | train loss: 1.094 | val loss: 0.953\n",
            "E32 | train loss: 1.093 | val loss: 0.954\n",
            "E33 | train loss: 1.092 | val loss: 0.955\n",
            "E34 | train loss: 1.091 | val loss: 0.955\n",
            "E35 | train loss: 1.090 | val loss: 0.956\n",
            "E36 | train loss: 1.089 | val loss: 0.957\n",
            "E37 | train loss: 1.089 | val loss: 0.958\n",
            "E38 | train loss: 1.088 | val loss: 0.958\n",
            "E39 | train loss: 1.088 | val loss: 0.959\n",
            "E40 | train loss: 1.087 | val loss: 0.960\n",
            "E41 | train loss: 1.087 | val loss: 0.960\n",
            "E42 | train loss: 1.086 | val loss: 0.961\n",
            "E43 | train loss: 1.086 | val loss: 0.962\n",
            "E44 | train loss: 1.085 | val loss: 0.962\n",
            "E45 | train loss: 1.085 | val loss: 0.963\n",
            "E46 | train loss: 1.085 | val loss: 0.963\n",
            "E47 | train loss: 1.084 | val loss: 0.964\n",
            "E48 | train loss: 1.084 | val loss: 0.964\n",
            "E49 | train loss: 1.084 | val loss: 0.965\n",
            "E50 | train loss: 1.083 | val loss: 0.965\n",
            "E51 | train loss: 1.083 | val loss: 0.966\n",
            "E52 | train loss: 1.083 | val loss: 0.966\n",
            "E53 | train loss: 1.083 | val loss: 0.967\n",
            "E54 | train loss: 1.082 | val loss: 0.967\n",
            "E55 | train loss: 1.082 | val loss: 0.967\n",
            "E56 | train loss: 1.082 | val loss: 0.968\n",
            "E57 | train loss: 1.082 | val loss: 0.968\n",
            "E58 | train loss: 1.082 | val loss: 0.969\n",
            "E59 | train loss: 1.082 | val loss: 0.969\n",
            "E60 | train loss: 1.081 | val loss: 0.969\n",
            "E61 | train loss: 1.081 | val loss: 0.970\n",
            "E62 | train loss: 1.081 | val loss: 0.970\n",
            "E63 | train loss: 1.081 | val loss: 0.970\n",
            "E64 | train loss: 1.081 | val loss: 0.971\n",
            "E65 | train loss: 1.081 | val loss: 0.971\n",
            "E66 | train loss: 1.081 | val loss: 0.971\n",
            "E67 | train loss: 1.081 | val loss: 0.971\n",
            "E68 | train loss: 1.080 | val loss: 0.972\n",
            "E69 | train loss: 1.080 | val loss: 0.972\n",
            "E70 | train loss: 1.080 | val loss: 0.972\n",
            "E71 | train loss: 1.080 | val loss: 0.973\n",
            "E72 | train loss: 1.080 | val loss: 0.973\n",
            "E73 | train loss: 1.080 | val loss: 0.973\n"
          ]
        },
        {
          "output_type": "error",
          "ename": "KeyboardInterrupt",
          "evalue": "ignored",
          "traceback": [
            "\u001b[0;31m---------------------------------------------------------------------------\u001b[0m",
            "\u001b[0;31mKeyboardInterrupt\u001b[0m                         Traceback (most recent call last)",
            "\u001b[0;32m<ipython-input-34-f564d6b61a71>\u001b[0m in \u001b[0;36m<cell line: 7>\u001b[0;34m()\u001b[0m\n\u001b[1;32m      5\u001b[0m \u001b[0;31m# run the model\u001b[0m\u001b[0;34m\u001b[0m\u001b[0;34m\u001b[0m\u001b[0m\n\u001b[1;32m      6\u001b[0m \u001b[0mmodel_cnn4\u001b[0m\u001b[0;34m.\u001b[0m\u001b[0mto\u001b[0m\u001b[0;34m(\u001b[0m\u001b[0mDEVICE\u001b[0m\u001b[0;34m)\u001b[0m\u001b[0;34m\u001b[0m\u001b[0;34m\u001b[0m\u001b[0m\n\u001b[0;32m----> 7\u001b[0;31m cnn_train_losses, cnn_val_losses = run(\n\u001b[0m\u001b[1;32m      8\u001b[0m     \u001b[0mtr_dl4\u001b[0m\u001b[0;34m,\u001b[0m\u001b[0;34m\u001b[0m\u001b[0;34m\u001b[0m\u001b[0m\n\u001b[1;32m      9\u001b[0m     \u001b[0mval_dl4\u001b[0m\u001b[0;34m,\u001b[0m\u001b[0;34m\u001b[0m\u001b[0;34m\u001b[0m\u001b[0m\n",
            "\u001b[0;32m<ipython-input-18-f1f745464072>\u001b[0m in \u001b[0;36mrun\u001b[0;34m(train_dl, val_dl, model, lr, epochs, loss_func, opt, device, reg, lamb)\u001b[0m\n\u001b[1;32m     80\u001b[0m     \u001b[0mloss_func\u001b[0m \u001b[0;34m=\u001b[0m \u001b[0mnn\u001b[0m\u001b[0;34m.\u001b[0m\u001b[0mMSELoss\u001b[0m\u001b[0;34m(\u001b[0m\u001b[0;34m)\u001b[0m\u001b[0;34m\u001b[0m\u001b[0;34m\u001b[0m\u001b[0m\n\u001b[1;32m     81\u001b[0m \u001b[0;34m\u001b[0m\u001b[0m\n\u001b[0;32m---> 82\u001b[0;31m   train_losses, val_losses = fit(epochs,\n\u001b[0m\u001b[1;32m     83\u001b[0m                      \u001b[0mmodel\u001b[0m\u001b[0;34m,\u001b[0m\u001b[0;34m\u001b[0m\u001b[0;34m\u001b[0m\u001b[0m\n\u001b[1;32m     84\u001b[0m                      \u001b[0mloss_func\u001b[0m\u001b[0;34m,\u001b[0m\u001b[0;34m\u001b[0m\u001b[0;34m\u001b[0m\u001b[0m\n",
            "\u001b[0;32m<ipython-input-18-f1f745464072>\u001b[0m in \u001b[0;36mfit\u001b[0;34m(epochs, model, loss_func, opt, train_dl, val_dl, device, reg, lamb)\u001b[0m\n\u001b[1;32m     65\u001b[0m   \u001b[0mprint\u001b[0m\u001b[0;34m(\u001b[0m\u001b[0mopt\u001b[0m\u001b[0;34m)\u001b[0m\u001b[0;34m\u001b[0m\u001b[0;34m\u001b[0m\u001b[0m\n\u001b[1;32m     66\u001b[0m   \u001b[0;32mfor\u001b[0m \u001b[0mepoch\u001b[0m \u001b[0;32min\u001b[0m \u001b[0mrange\u001b[0m\u001b[0;34m(\u001b[0m\u001b[0mepochs\u001b[0m\u001b[0;34m)\u001b[0m\u001b[0;34m:\u001b[0m\u001b[0;34m\u001b[0m\u001b[0;34m\u001b[0m\u001b[0m\n\u001b[0;32m---> 67\u001b[0;31m     \u001b[0mtrain_loss\u001b[0m \u001b[0;34m=\u001b[0m \u001b[0mtrain_step\u001b[0m\u001b[0;34m(\u001b[0m\u001b[0mmodel\u001b[0m\u001b[0;34m,\u001b[0m \u001b[0mtrain_dl\u001b[0m\u001b[0;34m,\u001b[0m \u001b[0mloss_func\u001b[0m\u001b[0;34m,\u001b[0m \u001b[0mopt\u001b[0m\u001b[0;34m,\u001b[0m \u001b[0mdevice\u001b[0m\u001b[0;34m=\u001b[0m\u001b[0mdevice\u001b[0m\u001b[0;34m,\u001b[0m \u001b[0mreg\u001b[0m\u001b[0;34m=\u001b[0m\u001b[0mreg\u001b[0m\u001b[0;34m,\u001b[0m \u001b[0mlamb\u001b[0m\u001b[0;34m=\u001b[0m\u001b[0mlamb\u001b[0m\u001b[0;34m)\u001b[0m\u001b[0;34m\u001b[0m\u001b[0;34m\u001b[0m\u001b[0m\n\u001b[0m\u001b[1;32m     68\u001b[0m     \u001b[0mtrain_losses\u001b[0m\u001b[0;34m.\u001b[0m\u001b[0mappend\u001b[0m\u001b[0;34m(\u001b[0m\u001b[0mtrain_loss\u001b[0m\u001b[0;34m)\u001b[0m\u001b[0;34m\u001b[0m\u001b[0;34m\u001b[0m\u001b[0m\n\u001b[1;32m     69\u001b[0m     \u001b[0mval_loss\u001b[0m \u001b[0;34m=\u001b[0m \u001b[0mval_step\u001b[0m\u001b[0;34m(\u001b[0m\u001b[0mmodel\u001b[0m\u001b[0;34m=\u001b[0m\u001b[0mmodel\u001b[0m\u001b[0;34m,\u001b[0m \u001b[0mval_dl\u001b[0m\u001b[0;34m=\u001b[0m\u001b[0mval_dl\u001b[0m\u001b[0;34m,\u001b[0m \u001b[0mloss_func\u001b[0m\u001b[0;34m=\u001b[0m\u001b[0mloss_func\u001b[0m\u001b[0;34m,\u001b[0m \u001b[0mdevice\u001b[0m\u001b[0;34m=\u001b[0m\u001b[0mdevice\u001b[0m\u001b[0;34m)\u001b[0m\u001b[0;34m\u001b[0m\u001b[0;34m\u001b[0m\u001b[0m\n",
            "\u001b[0;32m<ipython-input-18-f1f745464072>\u001b[0m in \u001b[0;36mtrain_step\u001b[0;34m(model, train_dl, loss_func, opt, device, reg, lamb)\u001b[0m\n\u001b[1;32m     33\u001b[0m   \u001b[0;32mfor\u001b[0m \u001b[0mxb\u001b[0m\u001b[0;34m,\u001b[0m \u001b[0myb\u001b[0m \u001b[0;32min\u001b[0m \u001b[0mtrain_dl\u001b[0m\u001b[0;34m:\u001b[0m\u001b[0;34m\u001b[0m\u001b[0;34m\u001b[0m\u001b[0m\n\u001b[1;32m     34\u001b[0m     \u001b[0mxb\u001b[0m\u001b[0;34m,\u001b[0m \u001b[0myb\u001b[0m \u001b[0;34m=\u001b[0m \u001b[0mxb\u001b[0m\u001b[0;34m.\u001b[0m\u001b[0mto\u001b[0m\u001b[0;34m(\u001b[0m\u001b[0mdevice\u001b[0m\u001b[0;34m)\u001b[0m\u001b[0;34m,\u001b[0m \u001b[0myb\u001b[0m\u001b[0;34m.\u001b[0m\u001b[0mto\u001b[0m\u001b[0;34m(\u001b[0m\u001b[0mdevice\u001b[0m\u001b[0;34m)\u001b[0m\u001b[0;34m\u001b[0m\u001b[0;34m\u001b[0m\u001b[0m\n\u001b[0;32m---> 35\u001b[0;31m     \u001b[0mt\u001b[0m\u001b[0;34m,\u001b[0m \u001b[0mn\u001b[0m \u001b[0;34m=\u001b[0m \u001b[0mloss_batch\u001b[0m\u001b[0;34m(\u001b[0m\u001b[0mmodel\u001b[0m\u001b[0;34m,\u001b[0m \u001b[0mxb\u001b[0m\u001b[0;34m,\u001b[0m \u001b[0myb\u001b[0m\u001b[0;34m,\u001b[0m \u001b[0mloss_func\u001b[0m\u001b[0;34m,\u001b[0m \u001b[0mopt\u001b[0m \u001b[0;34m=\u001b[0m \u001b[0mopt\u001b[0m\u001b[0;34m,\u001b[0m \u001b[0mdevice\u001b[0m\u001b[0;34m=\u001b[0m\u001b[0mdevice\u001b[0m\u001b[0;34m,\u001b[0m \u001b[0mreg\u001b[0m\u001b[0;34m=\u001b[0m\u001b[0mreg\u001b[0m\u001b[0;34m,\u001b[0m \u001b[0mlamb\u001b[0m\u001b[0;34m=\u001b[0m\u001b[0mlamb\u001b[0m\u001b[0;34m)\u001b[0m\u001b[0;34m\u001b[0m\u001b[0;34m\u001b[0m\u001b[0m\n\u001b[0m\u001b[1;32m     36\u001b[0m     \u001b[0mtl\u001b[0m\u001b[0;34m.\u001b[0m\u001b[0mappend\u001b[0m\u001b[0;34m(\u001b[0m\u001b[0mt\u001b[0m\u001b[0;34m)\u001b[0m\u001b[0;34m\u001b[0m\u001b[0;34m\u001b[0m\u001b[0m\n\u001b[1;32m     37\u001b[0m     \u001b[0mns\u001b[0m\u001b[0;34m.\u001b[0m\u001b[0mappend\u001b[0m\u001b[0;34m(\u001b[0m\u001b[0mn\u001b[0m\u001b[0;34m)\u001b[0m\u001b[0;34m\u001b[0m\u001b[0;34m\u001b[0m\u001b[0m\n",
            "\u001b[0;32m<ipython-input-18-f1f745464072>\u001b[0m in \u001b[0;36mloss_batch\u001b[0;34m(model, xb, yb, loss_func, opt, verbose, device, reg, lamb)\u001b[0m\n\u001b[1;32m     20\u001b[0m \u001b[0;34m\u001b[0m\u001b[0m\n\u001b[1;32m     21\u001b[0m   \u001b[0;32mif\u001b[0m \u001b[0mopt\u001b[0m\u001b[0;34m:\u001b[0m\u001b[0;34m\u001b[0m\u001b[0;34m\u001b[0m\u001b[0m\n\u001b[0;32m---> 22\u001b[0;31m     \u001b[0mloss\u001b[0m\u001b[0;34m.\u001b[0m\u001b[0mbackward\u001b[0m\u001b[0;34m(\u001b[0m\u001b[0;34m)\u001b[0m\u001b[0;34m\u001b[0m\u001b[0;34m\u001b[0m\u001b[0m\n\u001b[0m\u001b[1;32m     23\u001b[0m     \u001b[0mopt\u001b[0m\u001b[0;34m.\u001b[0m\u001b[0mstep\u001b[0m\u001b[0;34m(\u001b[0m\u001b[0;34m)\u001b[0m\u001b[0;34m\u001b[0m\u001b[0;34m\u001b[0m\u001b[0m\n\u001b[1;32m     24\u001b[0m     \u001b[0mopt\u001b[0m\u001b[0;34m.\u001b[0m\u001b[0mzero_grad\u001b[0m\u001b[0;34m(\u001b[0m\u001b[0;34m)\u001b[0m\u001b[0;34m\u001b[0m\u001b[0;34m\u001b[0m\u001b[0m\n",
            "\u001b[0;32m/usr/local/lib/python3.10/dist-packages/torch/_tensor.py\u001b[0m in \u001b[0;36mbackward\u001b[0;34m(self, gradient, retain_graph, create_graph, inputs)\u001b[0m\n\u001b[1;32m    485\u001b[0m                 \u001b[0minputs\u001b[0m\u001b[0;34m=\u001b[0m\u001b[0minputs\u001b[0m\u001b[0;34m,\u001b[0m\u001b[0;34m\u001b[0m\u001b[0;34m\u001b[0m\u001b[0m\n\u001b[1;32m    486\u001b[0m             )\n\u001b[0;32m--> 487\u001b[0;31m         torch.autograd.backward(\n\u001b[0m\u001b[1;32m    488\u001b[0m             \u001b[0mself\u001b[0m\u001b[0;34m,\u001b[0m \u001b[0mgradient\u001b[0m\u001b[0;34m,\u001b[0m \u001b[0mretain_graph\u001b[0m\u001b[0;34m,\u001b[0m \u001b[0mcreate_graph\u001b[0m\u001b[0;34m,\u001b[0m \u001b[0minputs\u001b[0m\u001b[0;34m=\u001b[0m\u001b[0minputs\u001b[0m\u001b[0;34m\u001b[0m\u001b[0;34m\u001b[0m\u001b[0m\n\u001b[1;32m    489\u001b[0m         )\n",
            "\u001b[0;32m/usr/local/lib/python3.10/dist-packages/torch/autograd/__init__.py\u001b[0m in \u001b[0;36mbackward\u001b[0;34m(tensors, grad_tensors, retain_graph, create_graph, grad_variables, inputs)\u001b[0m\n\u001b[1;32m    198\u001b[0m     \u001b[0;31m# some Python versions print out the first line of a multi-line function\u001b[0m\u001b[0;34m\u001b[0m\u001b[0;34m\u001b[0m\u001b[0m\n\u001b[1;32m    199\u001b[0m     \u001b[0;31m# calls in the traceback and some print out the last line\u001b[0m\u001b[0;34m\u001b[0m\u001b[0;34m\u001b[0m\u001b[0m\n\u001b[0;32m--> 200\u001b[0;31m     Variable._execution_engine.run_backward(  # Calls into the C++ engine to run the backward pass\n\u001b[0m\u001b[1;32m    201\u001b[0m         \u001b[0mtensors\u001b[0m\u001b[0;34m,\u001b[0m \u001b[0mgrad_tensors_\u001b[0m\u001b[0;34m,\u001b[0m \u001b[0mretain_graph\u001b[0m\u001b[0;34m,\u001b[0m \u001b[0mcreate_graph\u001b[0m\u001b[0;34m,\u001b[0m \u001b[0minputs\u001b[0m\u001b[0;34m,\u001b[0m\u001b[0;34m\u001b[0m\u001b[0;34m\u001b[0m\u001b[0m\n\u001b[1;32m    202\u001b[0m         allow_unreachable=True, accumulate_grad=True)  # Calls into the C++ engine to run the backward pass\n",
            "\u001b[0;31mKeyboardInterrupt\u001b[0m: "
          ]
        }
      ]
    },
    {
      "cell_type": "code",
      "source": [
        "from torchvision import models\n",
        "from torchsummary import summary\n",
        "\n",
        "summary(model_cnn4, (4, 250))"
      ],
      "metadata": {
        "colab": {
          "base_uri": "https://localhost:8080/"
        },
        "id": "mBGAGVesi8C9",
        "outputId": "1fccbc87-a8ce-4540-e7df-c1080c7f1524"
      },
      "execution_count": null,
      "outputs": [
        {
          "output_type": "stream",
          "name": "stdout",
          "text": [
            "----------------------------------------------------------------\n",
            "        Layer (type)               Output Shape         Param #\n",
            "================================================================\n",
            "            Conv1d-1              [-1, 32, 248]             416\n",
            "           Flatten-2                 [-1, 7936]               0\n",
            "         MaxPool1d-3                 [-1, 1982]               0\n",
            "            Linear-4                    [-1, 1]           1,983\n",
            "           Sigmoid-5                    [-1, 1]               0\n",
            "================================================================\n",
            "Total params: 2,399\n",
            "Trainable params: 2,399\n",
            "Non-trainable params: 0\n",
            "----------------------------------------------------------------\n",
            "Input size (MB): 0.00\n",
            "Forward/backward pass size (MB): 0.14\n",
            "Params size (MB): 0.01\n",
            "Estimated Total Size (MB): 0.15\n",
            "----------------------------------------------------------------\n"
          ]
        }
      ]
    },
    {
      "cell_type": "markdown",
      "source": [
        "## Grid Search"
      ],
      "metadata": {
        "id": "09bFRgtrm299"
      }
    },
    {
      "cell_type": "code",
      "source": [
        "lrs = [0.5, 0.25, 0.1, 0.05, 0.01, 0.005, 0.001]\n",
        "lambs = [0.5, 0.1, 0.01, 0.001, 0.0001]\n",
        "lr_losses = []\n",
        "for lr in lrs:\n",
        "  for lamb in lambs:\n",
        "    print(f'------{lr}:{lamb}------')\n",
        "    repeat_lr = lr\n",
        "    repeats = 1\n",
        "    for i in range(repeats):\n",
        "      temp_model_cnn = ConvNet(seq_length=8)\n",
        "      opt = optim.Adam(temp_model_cnn.parameters(), lr=repeat_lr)\n",
        "      temp_model_cnn.to(DEVICE)\n",
        "      test_lr_loss = run(\n",
        "          tr_dl2,\n",
        "          val_dl2,\n",
        "          temp_model_cnn,\n",
        "          opt = opt,\n",
        "          epochs = 25\n",
        "      )\n",
        "      lr_losses.append(test_lr_loss)"
      ],
      "metadata": {
        "id": "XRIVuGbRm5_m"
      },
      "execution_count": null,
      "outputs": []
    },
    {
      "cell_type": "markdown",
      "metadata": {
        "id": "y25PN42-NVRT"
      },
      "source": [
        "## Learning rate testing"
      ]
    },
    {
      "cell_type": "code",
      "execution_count": null,
      "metadata": {
        "id": "ciwh2OawNYbk"
      },
      "outputs": [],
      "source": [
        "lrs = [0.5, 0.25, 0.1, 0.05, 0.025, 0.01]\n",
        "lr_losses = []\n",
        "for lr in lrs:\n",
        "  print(f'------{lr}------')\n",
        "  repeat_lr = lr\n",
        "  repeats = 5\n",
        "  for i in range(repeats):\n",
        "    print(f'------{repeat_lr}------')\n",
        "    model_cnn = ConvNet(seq_length=250)\n",
        "    opt = optim.Adam(model_cnn.parameters(), lr=repeat_lr)\n",
        "    test_lr_loss = run(\n",
        "        xTr_dl,\n",
        "        xVal_dl,\n",
        "        model_cnn,\n",
        "        opt = opt,\n",
        "        epochs = 25\n",
        "    )\n",
        "    lr_losses.append(test_lr_loss)"
      ]
    },
    {
      "cell_type": "code",
      "execution_count": null,
      "metadata": {
        "id": "WdmjS6Vxw1vo"
      },
      "outputs": [],
      "source": [
        "repeat_lr = 0.25\n",
        "repeats = 10\n",
        "lr_losses = []\n",
        "for i in range(repeats):\n",
        "  print(f'------{repeat_lr}------')\n",
        "  model_cnn = ConvNet(seq_length=250)\n",
        "  opt = optim.Adam(model_cnn.parameters(), lr=repeat_lr)\n",
        "  test_lr_loss = run(\n",
        "      xTr_dl,\n",
        "      xVal_dl,\n",
        "      model_cnn,\n",
        "      opt = opt,\n",
        "      epochs = 25\n",
        "  )\n",
        "  lr_losses.append(test_lr_loss)"
      ]
    },
    {
      "cell_type": "code",
      "execution_count": null,
      "metadata": {
        "id": "NU6fy0fasquy"
      },
      "outputs": [],
      "source": [
        "for i in range(4):\n",
        "\n",
        "  plt.plot(lr_losses[i])\n",
        "plt.legend()"
      ]
    },
    {
      "cell_type": "code",
      "execution_count": null,
      "metadata": {
        "id": "-tVOhL0j4FwX"
      },
      "outputs": [],
      "source": [
        "for i in range(len(lrs)):\n",
        "  for i in range(repeats):\n",
        "    plt.plot(lr_losses[i], label=lrs[i])\n",
        "plt.legend(lr_losses, lrs)"
      ]
    },
    {
      "cell_type": "code",
      "source": [
        "for curve in lr_losses:\n",
        "  plt.plot(curve)"
      ],
      "metadata": {
        "id": "DlQ1qC2uyVJY"
      },
      "execution_count": null,
      "outputs": []
    },
    {
      "cell_type": "code",
      "source": [
        "for lr in lrs:\n",
        "  for i in range(repeats):\n"
      ],
      "metadata": {
        "id": "xfWOx8ItzQf2"
      },
      "execution_count": null,
      "outputs": []
    },
    {
      "cell_type": "markdown",
      "metadata": {
        "id": "f53ERILl6Z1a"
      },
      "source": [
        "# 5. Defining and Running Linear Model"
      ]
    },
    {
      "cell_type": "markdown",
      "metadata": {
        "id": "bpFIwNfbQVrK"
      },
      "source": [
        "## Linear Model"
      ]
    },
    {
      "cell_type": "code",
      "execution_count": null,
      "metadata": {
        "id": "o-91tX1ps4w_"
      },
      "outputs": [],
      "source": [
        "class LinearNet(nn.Module):\n",
        "    def __init__(self, seq_length):\n",
        "      super().__init__()\n",
        "      self.seq_length = seq_length\n",
        "      self.flatten = nn.Flatten(1)\n",
        "      self.lin1 = nn.Linear(seq_length * 4, 100, bias=True)\n",
        "      # self.lin2 = nn.Linear(100, 1)\n",
        "      self.sig = nn.Sigmoid()\n",
        "    def forward(self, x):\n",
        "\n",
        "      x = self.flatten(x)\n",
        "      # x = x.view(x.shape[0], -1, 1)\n",
        "      # print(x.shape)\n",
        "      # print(x)\n",
        "      x = self.lin1(x)\n",
        "      # x = self.sig(x)\n",
        "      # x = self.lin2(x)\n",
        "\n",
        "      # x = self.tanh(x)\n",
        "      # print(x.shape)\n",
        "      return x\n",
        "\n"
      ]
    },
    {
      "cell_type": "markdown",
      "metadata": {
        "id": "uodV1f9JQZKL"
      },
      "source": [
        "## Run"
      ]
    },
    {
      "cell_type": "code",
      "execution_count": null,
      "metadata": {
        "id": "xcqgmYsY9zuu"
      },
      "outputs": [],
      "source": [
        "model_lin_250 = LinearNet(seq_length=250)\n",
        "lin_250_losses = run(xTr_dl,\n",
        "                     xVal_dl,\n",
        "                     model_lin_250,\n",
        "                     lr = 0.0001\n",
        "                     )"
      ]
    },
    {
      "cell_type": "markdown",
      "metadata": {
        "id": "wmNRyAgS0qB9"
      },
      "source": [
        "# 6. Model Examples"
      ]
    },
    {
      "cell_type": "code",
      "execution_count": null,
      "metadata": {
        "id": "N_dtGmCz0zXH"
      },
      "outputs": [],
      "source": [
        "def quick_examples(model, dataloader):\n",
        "    '''\n",
        "    Given a model and some sequences, get the model's predictions\n",
        "    for those sequences and compare to the oracle (true) output\n",
        "    '''\n",
        "    outs = []\n",
        "    yis = []\n",
        "    for x, y in dataloader:\n",
        "      for i in range(10):\n",
        "        xi = x[i].view(1, x[i].shape[0], x[i].shape[1])\n",
        "        out = model(xi)\n",
        "        print(f'predicted:{out} --> actual:{y[i]}')\n",
        "        outs.append(out.item())\n",
        "        yis.append(y[i].item())\n",
        "    return outs, yis"
      ]
    },
    {
      "cell_type": "code",
      "execution_count": null,
      "metadata": {
        "id": "Mu0TgAm-3kz3",
        "colab": {
          "base_uri": "https://localhost:8080/",
          "height": 169
        },
        "outputId": "d0eedbe6-d293-4bc4-b3b0-e7b9f906d3d9"
      },
      "outputs": [
        {
          "output_type": "error",
          "ename": "NameError",
          "evalue": "ignored",
          "traceback": [
            "\u001b[0;31m---------------------------------------------------------------------------\u001b[0m",
            "\u001b[0;31mNameError\u001b[0m                                 Traceback (most recent call last)",
            "\u001b[0;32m<ipython-input-2-6ab6804d26eb>\u001b[0m in \u001b[0;36m<cell line: 1>\u001b[0;34m()\u001b[0m\n\u001b[0;32m----> 1\u001b[0;31m \u001b[0mexamples\u001b[0m \u001b[0;34m=\u001b[0m \u001b[0mquick_examples\u001b[0m\u001b[0;34m(\u001b[0m\u001b[0mmodel_cnn2\u001b[0m\u001b[0;34m,\u001b[0m \u001b[0mtr_dl2\u001b[0m\u001b[0;34m)\u001b[0m\u001b[0;34m\u001b[0m\u001b[0;34m\u001b[0m\u001b[0m\n\u001b[0m",
            "\u001b[0;31mNameError\u001b[0m: name 'model_cnn2' is not defined"
          ]
        }
      ],
      "source": [
        "examples = quick_examples(model_cnn2, tr_dl2)"
      ]
    },
    {
      "cell_type": "code",
      "execution_count": null,
      "metadata": {
        "id": "mg3dQh2pQcFQ"
      },
      "outputs": [],
      "source": [
        "plt.scatter(examples[0], examples[1])\n",
        "plt.xlabel('predicted')\n",
        "plt.ylabel('labels')"
      ]
    },
    {
      "cell_type": "markdown",
      "source": [
        "# 7. Visualize Filters"
      ],
      "metadata": {
        "id": "2QiguB1-_cjc"
      }
    },
    {
      "cell_type": "code",
      "source": [
        "def get_conv_layers_from_model(model):\n",
        "    '''\n",
        "    Given a trained model, extract its convolutional layers\n",
        "    '''\n",
        "    model_children = list(model.children())\n",
        "\n",
        "    # counter to keep count of the conv layers\n",
        "    model_weights = [] # we will save the conv layer weights in this list\n",
        "    conv_layers = [] # we will save the actual conv layers in this list\n",
        "    bias_weights = []\n",
        "    counter = 0\n",
        "\n",
        "    # append all the conv layers and their respective weights to the list\n",
        "    for i in range(len(model_children)):\n",
        "        # get model type of Conv1d\n",
        "        if isinstance(model_children[i], torch.nn.Conv1d):\n",
        "            counter += 1\n",
        "            model_weights.append(model_children[i].weight)\n",
        "            conv_layers.append(model_children[i])\n",
        "            bias_weights.append(model_children[i].bias)\n",
        "\n",
        "        # also check sequential objects' children for conv1d\n",
        "        elif isinstance(model_children[i], torch.nn.Sequential):\n",
        "            for child in model_children[i]:\n",
        "                if isinstance(child, torch.nn.Conv1d):\n",
        "                    counter += 1\n",
        "                    model_weights.append(child.weight)\n",
        "                    conv_layers.append(child)\n",
        "                    bias_weights.append(child.bias)\n",
        "    print(f\"Total convolutional layers: {counter}\")\n",
        "    return conv_layers, model_weights, bias_weights\n",
        "\n",
        "def view_filters(model_weights, num_cols=8):\n",
        "    model_weights = model_weights[0]\n",
        "    num_filt = model_weights.shape[0]\n",
        "    filt_width = model_weights[0].shape[1]\n",
        "    num_rows = int(np.ceil(num_filt/num_cols))\n",
        "\n",
        "    # visualize the first conv layer filters\n",
        "    plt.figure(figsize=(20, 17))\n",
        "    for i, filter in enumerate(model_weights):\n",
        "        ax = plt.subplot(num_rows, num_cols, i+1)\n",
        "        ax.imshow(filter.cpu().detach(), cmap='gray')\n",
        "        ax.set_yticks(np.arange(4))\n",
        "        ax.set_yticklabels(['A', 'C', 'G','T'])\n",
        "        ax.set_xticks(np.arange(filt_width))\n",
        "        ax.set_title(f\"Filter {i}\")\n",
        "\n",
        "    plt.tight_layout()\n",
        "    plt.show()"
      ],
      "metadata": {
        "id": "e-QwxYVe_hX4"
      },
      "execution_count": null,
      "outputs": []
    },
    {
      "cell_type": "code",
      "source": [
        "model_to_visualize = model_cnn2\n",
        "\n",
        "conv_layers, model_weights, bias_weights = get_conv_layers_from_model(model_to_visualize)\n",
        "view_filters(model_weights)"
      ],
      "metadata": {
        "colab": {
          "base_uri": "https://localhost:8080/",
          "height": 1000
        },
        "id": "GBY2bG9W_oyC",
        "outputId": "0c0e17d7-b4a0-43a3-bc8c-4a15441306db"
      },
      "execution_count": null,
      "outputs": [
        {
          "output_type": "stream",
          "name": "stdout",
          "text": [
            "Total convolutional layers: 1\n"
          ]
        },
        {
          "output_type": "display_data",
          "data": {
            "text/plain": [
              "<Figure size 2000x1700 with 32 Axes>"
            ],
            "image/png": "[encoded data removed]"
          },
          "metadata": {}
        }
      ]
    },
    {
      "cell_type": "code",
      "source": [
        "conv_layers, model_weights, bias_weights = get_conv_layers_from_model(model_cnn3)\n",
        "view_filters(model_weights)"
      ],
      "metadata": {
        "id": "G6aEgb9T3yV7"
      },
      "execution_count": null,
      "outputs": []
    },
    {
      "cell_type": "code",
      "source": [
        "conv_layers, model_weights, bias_weights = get_conv_layers_from_model(model_cnn4)\n",
        "view_filters(model_weights)"
      ],
      "metadata": {
        "colab": {
          "base_uri": "https://localhost:8080/",
          "height": 1000
        },
        "id": "Uwzf4sjRhV7X",
        "outputId": "8cce66b6-9cc6-4f29-ccff-727b927ebf7f"
      },
      "execution_count": null,
      "outputs": [
        {
          "output_type": "stream",
          "name": "stdout",
          "text": [
            "Total convolutional layers: 1\n"
          ]
        },
        {
          "output_type": "display_data",
          "data": {
            "text/plain": [
              "<Figure size 2000x1700 with 32 Axes>"
            ],
            "image/png": "[encoded data removed]"
          },
          "metadata": {}
        }
      ]
    },
    {
      "cell_type": "markdown",
      "metadata": {
        "id": "rtGuSRi86tX3"
      },
      "source": [
        "# Crap Code"
      ]
    },
    {
      "cell_type": "code",
      "execution_count": null,
      "metadata": {
        "id": "6iz3SErF_7kS"
      },
      "outputs": [],
      "source": [
        "#optimization\n",
        "import torch.optim as optim\n",
        "\n",
        "steps = 10000\n",
        "lossi = []\n",
        "batch_size = 100\n",
        "Xin = sXenc\n",
        "Yin = sYtr\n",
        "# lr = 0.001\n",
        "loss = nn.MSELoss()\n",
        "linear = LinearNet(7)\n",
        "net = linear\n",
        "optimizer = optim.Adam(net.parameters(), lr = 0.0001)\n",
        "\n",
        "for i in range(steps):\n",
        "\n",
        "  #batch construct\n",
        "  ix = torch.randint(0, Xin.shape[0], (batch_size,))\n",
        "  Xb, Yb = Xin[ix], Yin[ix]\n",
        "\n",
        "  #forward pass\n",
        "  output = net(Xb)\n",
        "  loss_v = loss(output, Yb)\n",
        "  lossi.append(loss_v.item())\n",
        "\n",
        "  #backward pass\n",
        "  loss_v.backward()\n",
        "  optimizer.step()\n",
        "  optimizer.zero_grad()\n",
        "\n",
        "\n",
        "\n",
        "  if i % 100 == 0: # print every once in a while\n",
        "    print(f'{i:7d}/{steps:7d}: {loss_v.item():.4f}')\n"
      ]
    },
    {
      "cell_type": "code",
      "execution_count": null,
      "metadata": {
        "id": "A0CCu1DEdXWH"
      },
      "outputs": [],
      "source": [
        "Ytr.shape"
      ]
    },
    {
      "cell_type": "code",
      "execution_count": null,
      "metadata": {
        "id": "NIrZzhMYJOMC"
      },
      "outputs": [],
      "source": [
        "Xdev = enc(Xdev)\n",
        "Xte = enc(Xte)\n",
        "\n",
        "@torch.no_grad()\n",
        "def split_loss(split):\n",
        "  x,y = {\n",
        "    'train': (Xenc, Ytr),\n",
        "    'val': (Xdev, Ydev),\n",
        "    'test': (Xte, Yte),\n",
        "  }[split]\n",
        "  loss = net(x, y)\n",
        "  print(split, loss.item())\n",
        "\n",
        "split_loss('train')\n",
        "split_loss('val')"
      ]
    },
    {
      "cell_type": "code",
      "execution_count": null,
      "metadata": {
        "id": "08FhxGONebdv"
      },
      "outputs": [],
      "source": [
        "sXenc.shape"
      ]
    },
    {
      "cell_type": "code",
      "execution_count": null,
      "metadata": {
        "id": "6gD22pM_9ftP"
      },
      "outputs": [],
      "source": [
        "shapes = []\n",
        "testxi = torch.reshape(sXenc[10], (1, 4, -1))\n",
        "net(testxi)\n",
        "shapestr = ''\n",
        "# for shape in shapes:\n",
        "#   shapestr += f'{shapes}---> '\n",
        "shapestr"
      ]
    },
    {
      "cell_type": "code",
      "execution_count": null,
      "metadata": {
        "id": "txSNpI0ATgRt"
      },
      "outputs": [],
      "source": [
        "for x, y in sxTr_dl:\n",
        "  for i in range(50):\n",
        "    xi = x[i].view(1, x[i].shape[0], x[i].shape[1])\n",
        "    print(f'{model_lin(xi)} --> {y[i]}')"
      ]
    },
    {
      "cell_type": "code",
      "execution_count": null,
      "metadata": {
        "id": "WrAfqRYwUKUp"
      },
      "outputs": [],
      "source": [
        "shapes"
      ]
    },
    {
      "cell_type": "code",
      "execution_count": null,
      "metadata": {
        "id": "jCItyfMvzaUe"
      },
      "outputs": [],
      "source": [
        "for seqs, labs in sxTr_dl:\n",
        "  # print(f'seqs: {seqs[0]}')\n",
        "  x_again = torch.argmax(seqs, dim=1)\n",
        "  # print(f'x_again: {x_again[0]}')\n",
        "strings = []\n",
        "for x in x_again:\n",
        "  # print(f'x: {x}')\n",
        "  x_str = ''\n",
        "  for i in x:\n",
        "    i = i.item()\n",
        "    x_str += itob[i]\n",
        "  strings.append(x_str)\n",
        "  # print(f'x_str: {x_str}')\n",
        "# print(f'strings: {strings}')\n",
        "ys = []\n",
        "for item in labs:\n",
        "  item = item.item()\n",
        "  ys.append(item)\n",
        "\n",
        "testzips = zip(strings, ys)\n",
        "\n",
        "print(all([tup[1] == 0 for tup in testzips if tup[0] != gat]))\n",
        "print(all([tup[1] == 1 for tup in testzips if tup[0] == gat]))\n",
        "print(list(testzips))"
      ]
    }
  ],
  "metadata": {
    "colab": {
      "provenance": [],
      "collapsed_sections": [
        "bpFIwNfbQVrK",
        "uodV1f9JQZKL",
        "ksDABkFZRoBg",
        "SSQTPr6sflM7",
        "DNYkKmWyfqFv"
      ],
      "gpuType": "T4",
      "authorship_tag": "ABX9TyPrh/tUI5SYQlXnYCKiIk1f",
      "include_colab_link": true
    },
    "kernelspec": {
      "display_name": "Python 3",
      "name": "python3"
    },
    "language_info": {
      "name": "python"
    }
  },
  "nbformat": 4,
  "nbformat_minor": 0
}