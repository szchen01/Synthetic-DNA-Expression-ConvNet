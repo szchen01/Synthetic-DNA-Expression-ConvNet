{
  "cells": [
    {
      "cell_type": "markdown",
      "metadata": {
        "id": "view-in-github",
        "colab_type": "text"
      },
      "source": [
        "<a href=\"https://colab.research.google.com/github/szchen01/Synthetic-Promoter-Data-CNN/blob/main/synthetic_promoter_cnn.ipynb\" target=\"_parent\"><img src=\"https://colab.research.google.com/assets/colab-badge.svg\" alt=\"Open In Colab\"/></a>"
      ]
    },
    {
      "cell_type": "code",
      "execution_count": null,
      "metadata": {
        "id": "f8zWbtuCdMJ5"
      },
      "outputs": [],
      "source": [
        "import torch\n",
        "from torch.functional import Tensor\n",
        "import matplotlib.pyplot as plt\n",
        "import numpy as np\n",
        "import torch.nn.functional as F\n",
        "import torch.nn as nn\n",
        "from torch.utils.data import Dataset, DataLoader\n",
        "import random\n",
        "import math"
      ]
    },
    {
      "cell_type": "code",
      "source": [
        "DEVICE = torch.device('cuda' if torch.cuda.is_available() else 'cpu')\n",
        "DEVICE"
      ],
      "metadata": {
        "colab": {
          "base_uri": "https://localhost:8080/"
        },
        "id": "yoi2XgkAJKRU",
        "outputId": "349c96e0-af0b-42a1-acd9-bf71f484e598"
      },
      "execution_count": null,
      "outputs": [
        {
          "output_type": "execute_result",
          "data": {
            "text/plain": [
              "device(type='cpu')"
            ]
          },
          "metadata": {},
          "execution_count": 2
        }
      ]
    },
    {
      "cell_type": "code",
      "source": [
        "def set_seed(seed: int = 42) -> None:\n",
        "    np.random.seed(seed)\n",
        "    random.seed(seed)\n",
        "    torch.manual_seed(seed)\n",
        "    torch.cuda.manual_seed(seed)\n",
        "    # When running on the CuDNN backend, two further options must be set\n",
        "    torch.backends.cudnn.deterministic = True\n",
        "    torch.backends.cudnn.benchmark = False\n",
        "\n",
        "    print(f\"Random seed set as {seed}\")\n",
        "\n",
        "set_seed(42)"
      ],
      "metadata": {
        "colab": {
          "base_uri": "https://localhost:8080/"
        },
        "id": "J2ZyPxo9gn1-",
        "outputId": "ca0c18a4-56c6-44c0-e1f6-3324db2817df"
      },
      "execution_count": null,
      "outputs": [
        {
          "output_type": "stream",
          "name": "stdout",
          "text": [
            "Random seed set as 42\n"
          ]
        }
      ]
    },
    {
      "cell_type": "markdown",
      "metadata": {
        "id": "-Ss2CKAq3NAk"
      },
      "source": [
        "# 1. Generate Seq Strings"
      ]
    },
    {
      "cell_type": "code",
      "execution_count": null,
      "metadata": {
        "id": "_cxvESat9jtz"
      },
      "outputs": [],
      "source": [
        "bases = ['A', 'T', 'C', 'G']\n",
        "\n",
        "# generate n random sequences\n",
        "def randseq(length, quantity, motif, seven_scale=False):\n",
        "  seqs, mots = [], []\n",
        "  for _ in range(quantity):\n",
        "    seq = ''\n",
        "    for _ in range(length):\n",
        "      seq += np.random.choice(bases)\n",
        "    seqs.append(seq)\n",
        "\n",
        "# seven_scale only works for length 7 sequences\n",
        "    if seven_scale:\n",
        "      accuracy = 0\n",
        "      for i in range(7):\n",
        "        if seq[i] == motif[i]:\n",
        "          accuracy += 1\n",
        "      mots.append(accuracy)\n",
        "\n",
        "    else:\n",
        "      if motif in seq:\n",
        "        mots.append(1)\n",
        "      else:\n",
        "        mots.append(0)\n",
        "\n",
        "  return seqs, mots\n",
        "\n",
        "# generate n sequences with GATTACA\n",
        "def motifseq(length, quantity, motif, seven_scale=False):\n",
        "  seqs, mots = [], []\n",
        "  for _ in range(quantity):\n",
        "    seq = ''\n",
        "    pos = np.random.randint(0, length - len(motif) + 1)\n",
        "    for i in range(length + 1 - len(motif)):\n",
        "      if i == pos:\n",
        "        seq += motif\n",
        "      else:\n",
        "        seq += np.random.choice(bases)\n",
        "    seqs.append(seq)\n",
        "    if seven_scale:\n",
        "      mots.append(7)\n",
        "    else:\n",
        "      mots.append(1)\n",
        "\n",
        "  return seqs, mots\n",
        "\n",
        "def generate_seq(length, quantity, motif, seven_scale=False):\n",
        "  r = randseq(length, quantity // 2, motif, seven_scale=seven_scale)\n",
        "  m = motifseq(length, quantity // 2, motif, seven_scale=seven_scale)\n",
        "  return r[0] + m[0], r[1] + m[1]"
      ]
    },
    {
      "cell_type": "code",
      "execution_count": null,
      "metadata": {
        "colab": {
          "base_uri": "https://localhost:8080/"
        },
        "id": "sw5VKBFWKITr",
        "outputId": "f98d5d70-e5e0-4033-fb00-870cab43704c"
      },
      "outputs": [
        {
          "output_type": "stream",
          "name": "stdout",
          "text": [
            "[('GCTACATGTTATCCATAAAACAAAGGGTGCAAGCTTTAAAGACTGGTTCCTTTCTGTCCCCATTCTGATGCACCGAATCTTTCCGTAACCTGTGGACCTGTGGACTTAGGGGCAAAAGAGTAGCAACGTCTGTTCAACGCTAACAGCAGACCGTCGGGCTTTTATAAGATGTAACCTCGCTGTGACACGAGCATTGGAAGGCGTGCCTCGATGATATATGATTACAGAGGTCGCAGCCGTGCTTACCGCG', 1), ('AAGAATCATATTCTGAGGGATTACACGCAACTCCGAAACCACAGGCTAGTGAAGCATTCGAACAATTGTGTGAATAGCCAATTGGCGAATAGGTGTATGGCTGCAAAAATAGGAACTGGGGAATCAGCGTATGAAAATACAGTCGAGTTACTTCAGAAGGACGTATTGCTAGTAAATCTCCGGCTCCCACACTGGACTATCGCCCGGAAAGGCCTTACCTACTAAATCTCCCGGGACATCGTGTCCAGGC', 1), ('TCGGCCCGCAAACCAACCGAGGACGTCGTCTAGTAGAGTACGGATAGGCGTGACAGGAGTTAAACTATAGGCGGCAGCAAGGTTGGATTACATATATAAACCAGGGGATTGCGGAGGCACGATTAGACGCATAAGTTCCGTATTGAAGTACTGCACCCTTGAAGCTCGTTATGTAAAAGGTTTTCTTCCCCCTATTATTATATCATCGGTTTGACGCTGAGCCAGGCTGTACGCTGGCCCAAACGCCAGC', 1), ('CCGAAGTATAGTGGTTAGTCGGCCTATTAGTTCCATCCGCACGTTTCATAGCACAACGATGACAGTGGGAAACCCGCTGGATCTCACTCTCCTCCTTGCTTTGGGCTCAGCAAACAACTTCAGGTGCGAAGTTACCGATCCTTGTGGCGAGCGCAACAAGCTGTTCCAGATTACACATTGACGGCGTCGGTTGAGGAGGTTAGTCTGGTCTTCCTCATTTAGTCAAAAATCTAACAACAAAGACGTGTGC', 1), ('CCAGACAGCTCTAAGTATACAGCGCTGATACCAATAGGAGATGGAGCTTGGCCGGCACATTCACCACTGGCAATAATCGTCTCTCTCTGGACTCGCTCTGGGAGCAGCCCTACTGCTCAAGCTGCGTGGGCTACAACCTTGATGTCTATACATGCTCCTTGCCTATCTGATGCTCGCGGGTCCAAAACGGTGCCCTAGCCACGTCGCACCTAATCGAACCACGAGGCGCTCGTCGAACCAGGGCTTTTTC', 0), ('CAATGGAGTAGCAGGTTCCCTGAATTTTACATCATTGGTAGAAGTGACGCTGCTATTATGTCTCTGAACTTGTCCGCCGCCAGATGTCACAAAACCCATCCGTCCGATTGTCTGAGTGGTACGAAGTTGTTACCTTGTGCAGACACAATCGCTGTCCTGCTCTCCAGCGTATGTTTGCTGAAGTCACGATATCAGATCGTTGGCTTCAGCGCCTGCTCGCTTAGATAGTAATCTAGATATAACTCCATGA', 0), ('GAATGCTTTGACGATGACCAGTATCACTTAAACTTCAGAGGCTTTTCGTGCACTACCGCACTGAACTGAGCTCGCGAACAGATTCCCCGGTGATCCGTGGGTCACTCCACCCGTTAGGCTAGCAGAGAGGAGGGAAGGACGCAGCACTATAAGTTTATTGCCTTTTCGATTCTGGTCTTCGATGTACGATAGCTCCAAGGCGCTCGGCACCATAGAGGCCTGCGTGTTTCAACGCGTCAGCCGTTTTGAC', 0), ('CTCACACATGGCTCGTGATAGTGGTAACCCTCAGCGGCAGGACAACCGGTTGATAACTATTATCTCGAGGTGAAAAGGCTAGGGCTTATGAGCTACATCGACCCTTTTTCCGTAGGAGATTACAGGGTTCCTTGAGACACGATGACGACCCCTAGAATATCGGGCTTTTAACCTGATTCACTCCCGACTATAAACGAGCTGGAGAGGAAGTCTCCATCGGGCAGTGAGGCATATCCTGATGTCATTAGCC', 1)]\n"
          ]
        }
      ],
      "source": [
        "# construct list of sequences and corresponding list of labels\n",
        "gat = 'GATTACA'\n",
        "simpseqs = generate_seq(20, 50, gat)\n",
        "seqs, gats = generate_seq(250, 1000, gat)\n",
        "zips = list(zip(seqs, gats))\n",
        "random.shuffle(zips)\n",
        "print(zips[:8])\n",
        "shortseqs,shortgats = generate_seq(7,1000,gat)\n",
        "shortzips = list(zip(shortseqs, shortgats))\n",
        "random.shuffle(shortzips)\n"
      ]
    },
    {
      "cell_type": "code",
      "execution_count": null,
      "metadata": {
        "id": "Rf1NkrxBxlxP"
      },
      "outputs": [],
      "source": [
        "gat = 'GATTACA'\n",
        "sevseqs, sevlabels = generate_seq(7, 1000, gat, seven_scale=True)\n",
        "sevzips = list(zip(sevseqs, sevlabels))\n",
        "random.shuffle(sevzips)"
      ]
    },
    {
      "cell_type": "markdown",
      "metadata": {
        "id": "zA_emzqhQk5K"
      },
      "source": [
        "## Sanity check tests"
      ]
    },
    {
      "cell_type": "code",
      "execution_count": null,
      "metadata": {
        "colab": {
          "base_uri": "https://localhost:8080/"
        },
        "id": "S_iST4MXCDMK",
        "outputId": "d59cdfa9-7b02-4b6d-b352-9b80f765b9b2"
      },
      "outputs": [
        {
          "output_type": "stream",
          "name": "stdout",
          "text": [
            "gats in simpseqs: 0\n",
            "gats in seqs: 503\n",
            "length of simpseqs: 2\n",
            "length of seqs: 1000\n",
            "length of shortseqs: 1000\n",
            "True\n",
            "[250, 250, 250, 250, 250, 250, 250, 250, 250, 250, 250, 250, 250, 250, 250, 250, 250, 250, 250, 250, 250, 250, 250, 250, 250, 250, 250, 250, 250, 250, 250, 250, 250, 250, 250, 250, 250, 250, 250, 250, 250, 250, 250, 250, 250, 250, 250, 250, 250, 250, 250, 250, 250, 250, 250, 250, 250, 250, 250, 250, 250, 250, 250, 250, 250, 250, 250, 250, 250, 250, 250, 250, 250, 250, 250, 250, 250, 250, 250, 250, 250, 250, 250, 250, 250, 250, 250, 250, 250, 250, 250, 250, 250, 250, 250, 250, 250, 250, 250, 250, 250, 250, 250, 250, 250, 250, 250, 250, 250, 250, 250, 250, 250, 250, 250, 250, 250, 250, 250, 250, 250, 250, 250, 250, 250, 250, 250, 250, 250, 250, 250, 250, 250, 250, 250, 250, 250, 250, 250, 250, 250, 250, 250, 250, 250, 250, 250, 250, 250, 250, 250, 250, 250, 250, 250, 250, 250, 250, 250, 250, 250, 250, 250, 250, 250, 250, 250, 250, 250, 250, 250, 250, 250, 250, 250, 250, 250, 250, 250, 250, 250, 250, 250, 250, 250, 250, 250, 250, 250, 250, 250, 250, 250, 250, 250, 250, 250, 250, 250, 250, 250, 250, 250, 250, 250, 250, 250, 250, 250, 250, 250, 250, 250, 250, 250, 250, 250, 250, 250, 250, 250, 250, 250, 250, 250, 250, 250, 250, 250, 250, 250, 250, 250, 250, 250, 250, 250, 250, 250, 250, 250, 250, 250, 250, 250, 250, 250, 250, 250, 250, 250, 250, 250, 250, 250, 250, 250, 250, 250, 250, 250, 250, 250, 250, 250, 250, 250, 250, 250, 250, 250, 250, 250, 250, 250, 250, 250, 250, 250, 250, 250, 250, 250, 250, 250, 250, 250, 250, 250, 250, 250, 250, 250, 250, 250, 250, 250, 250, 250, 250, 250, 250, 250, 250, 250, 250, 250, 250, 250, 250, 250, 250, 250, 250, 250, 250, 250, 250, 250, 250, 250, 250, 250, 250, 250, 250, 250, 250, 250, 250, 250, 250, 250, 250, 250, 250, 250, 250, 250, 250, 250, 250, 250, 250, 250, 250, 250, 250, 250, 250, 250, 250, 250, 250, 250, 250, 250, 250, 250, 250, 250, 250, 250, 250, 250, 250, 250, 250, 250, 250, 250, 250, 250, 250, 250, 250, 250, 250, 250, 250, 250, 250, 250, 250, 250, 250, 250, 250, 250, 250, 250, 250, 250, 250, 250, 250, 250, 250, 250, 250, 250, 250, 250, 250, 250, 250, 250, 250, 250, 250, 250, 250, 250, 250, 250, 250, 250, 250, 250, 250, 250, 250, 250, 250, 250, 250, 250, 250, 250, 250, 250, 250, 250, 250, 250, 250, 250, 250, 250, 250, 250, 250, 250, 250, 250, 250, 250, 250, 250, 250, 250, 250, 250, 250, 250, 250, 250, 250, 250, 250, 250, 250, 250, 250, 250, 250, 250, 250, 250, 250, 250, 250, 250, 250, 250, 250, 250, 250, 250, 250, 250, 250, 250, 250, 250, 250, 250, 250, 250, 250, 250, 250, 250, 250, 250, 250, 250, 250, 250, 250, 250, 250, 250, 250, 250, 250, 250, 250, 250, 250, 250, 250, 250, 250, 250, 250, 250, 250, 250, 250, 250, 250, 250, 250, 250, 250, 250, 250, 250, 250, 250, 250, 250, 250, 250, 250, 250, 250, 250, 250, 250, 250, 250, 250, 250, 250, 250, 250, 250, 250, 250, 250, 250, 250, 250, 250, 250, 250, 250, 250, 250, 250, 250, 250, 250, 250, 250, 250, 250, 250, 250, 250, 250, 250, 250, 250, 250, 250, 250, 250, 250, 250, 250, 250, 250, 250, 250, 250, 250, 250, 250, 250, 250, 250, 250, 250, 250, 250, 250, 250, 250, 250, 250, 250, 250, 250, 250, 250, 250, 250, 250, 250, 250, 250, 250, 250, 250, 250, 250, 250, 250, 250, 250, 250, 250, 250, 250, 250, 250, 250, 250, 250, 250, 250, 250, 250, 250, 250, 250, 250, 250, 250, 250, 250, 250, 250, 250, 250, 250, 250, 250, 250, 250, 250, 250, 250, 250, 250, 250, 250, 250, 250, 250, 250, 250, 250, 250, 250, 250, 250, 250, 250, 250, 250, 250, 250, 250, 250, 250, 250, 250, 250, 250, 250, 250, 250, 250, 250, 250, 250, 250, 250, 250, 250, 250, 250, 250, 250, 250, 250, 250, 250, 250, 250, 250, 250, 250, 250, 250, 250, 250, 250, 250, 250, 250, 250, 250, 250, 250, 250, 250, 250, 250, 250, 250, 250, 250, 250, 250, 250, 250, 250, 250, 250, 250, 250, 250, 250, 250, 250, 250, 250, 250, 250, 250, 250, 250, 250, 250, 250, 250, 250, 250, 250, 250, 250, 250, 250, 250, 250, 250, 250, 250, 250, 250, 250, 250, 250, 250, 250, 250, 250, 250, 250, 250, 250, 250, 250, 250, 250, 250, 250, 250, 250, 250, 250, 250, 250, 250, 250, 250, 250, 250, 250, 250, 250, 250, 250, 250, 250, 250, 250, 250, 250, 250, 250, 250, 250, 250, 250, 250, 250, 250, 250, 250, 250, 250, 250, 250, 250, 250, 250, 250, 250, 250, 250, 250, 250, 250, 250, 250, 250, 250, 250, 250, 250, 250, 250, 250, 250, 250, 250, 250, 250, 250, 250, 250, 250, 250, 250, 250, 250, 250, 250, 250, 250, 250, 250, 250, 250, 250, 250, 250, 250, 250, 250, 250, 250, 250, 250, 250, 250, 250, 250, 250, 250, 250, 250, 250, 250, 250, 250, 250, 250, 250, 250, 250, 250, 250, 250, 250, 250, 250, 250, 250, 250, 250, 250, 250, 250, 250, 250, 250, 250, 250, 250, 250, 250, 250, 250, 250, 250, 250, 250, 250, 250, 250, 250, 250, 250, 250, 250, 250, 250, 250, 250, 250, 250, 250, 250, 250, 250, 250, 250, 250, 250, 250, 250, 250, 250, 250, 250, 250, 250, 250, 250, 250, 250, 250, 250, 250, 250, 250, 250, 250, 250, 250, 250, 250, 250, 250, 250, 250, 250, 250, 250, 250, 250, 250, 250, 250, 250, 250, 250, 250, 250, 250, 250, 250, 250, 250, 250, 250, 250, 250, 250, 250, 250, 250, 250, 250, 250, 250, 250, 250, 250, 250, 250, 250, 250]\n",
            "gats in shortseqs: 500\n",
            "gats in shortseqs: 500\n"
          ]
        }
      ],
      "source": [
        "# sanity check\n",
        "print(f'gats in simpseqs: {sum([gat in seq for seq in simpseqs])}')\n",
        "print(f'gats in seqs: {sum([gat in seq for seq in seqs])}')\n",
        "print(f'length of simpseqs: {len(simpseqs)}')\n",
        "print(f'length of seqs: {len(seqs)}')\n",
        "print(f'length of shortseqs: {len(shortseqs)}')\n",
        "print(all([len(x) == 250 for x in seqs]))\n",
        "print([len(x) for x in seqs])\n",
        "print(f'gats in shortseqs: {sum([gat in seq for seq in shortseqs])}')\n",
        "print(f'gats in shortseqs: {sum([gat in seq for seq in shortseqs])}')\n"
      ]
    },
    {
      "cell_type": "code",
      "execution_count": null,
      "metadata": {
        "colab": {
          "base_uri": "https://localhost:8080/"
        },
        "id": "XXMn2sTi_g5F",
        "outputId": "dc4d05bd-1f81-4ac4-db07-31c3830d0b8f"
      },
      "outputs": [
        {
          "output_type": "stream",
          "name": "stdout",
          "text": [
            "243\n",
            "True\n",
            "True\n",
            "True\n",
            "[250, 250, 250, 250, 250, 250, 250, 250, 250, 250, 250, 250, 250, 250, 250, 250, 250, 250, 250, 250, 250, 250, 250, 250, 250, 250, 250, 250, 250, 250, 250, 250, 250, 250, 250, 250, 250, 250, 250, 250, 250, 250, 250, 250, 250, 250, 250, 250, 250, 250, 250, 250, 250, 250, 250, 250, 250, 250, 250, 250, 250, 250, 250, 250, 250, 250, 250, 250, 250, 250, 250, 250, 250, 250, 250, 250, 250, 250, 250, 250, 250, 250, 250, 250, 250, 250, 250, 250, 250, 250, 250, 250, 250, 250, 250, 250, 250, 250, 250, 250, 250, 250, 250, 250, 250, 250, 250, 250, 250, 250, 250, 250, 250, 250, 250, 250, 250, 250, 250, 250, 250, 250, 250, 250, 250, 250, 250, 250, 250, 250, 250, 250, 250, 250, 250, 250, 250, 250, 250, 250, 250, 250, 250, 250, 250, 250, 250, 250, 250, 250, 250, 250, 250, 250, 250, 250, 250, 250, 250, 250, 250, 250, 250, 250, 250, 250, 250, 250, 250, 250, 250, 250, 250, 250, 250, 250, 250, 250, 250, 250, 250, 250, 250, 250, 250, 250, 250, 250, 250, 250, 250, 250, 250, 250, 250, 250, 250, 250, 250, 250, 250, 250, 250, 250, 250, 250, 250, 250, 250, 250, 250, 250, 250, 250, 250, 250, 250, 250, 250, 250, 250, 250, 250, 250, 250, 250, 250, 250, 250, 250, 250, 250, 250, 250, 250, 250, 250, 250, 250, 250, 250, 250, 250, 250, 250, 250, 250, 250, 250, 250, 250, 250, 250, 250, 250, 250, 250, 250, 250, 250, 250, 250, 250, 250, 250, 250, 250, 250, 250, 250, 250, 250, 250, 250, 250, 250, 250, 250, 250, 250, 250, 250, 250, 250, 250, 250, 250, 250, 250, 250, 250, 250, 250, 250, 250, 250, 250, 250, 250, 250, 250, 250, 250, 250, 250, 250, 250, 250, 250, 250, 250, 250, 250, 250, 250, 250, 250, 250, 250, 250, 250, 250, 250, 250, 250, 250, 250, 250, 250, 250, 250, 250, 250, 250, 250, 250, 250, 250, 250, 250, 250, 250, 250, 250, 250, 250, 250, 250, 250, 250, 250, 250, 250, 250, 250, 250, 250, 250, 250, 250, 250, 250, 250, 250, 250, 250, 250, 250, 250, 250, 250, 250, 250, 250, 250, 250, 250, 250, 250, 250, 250, 250, 250, 250, 250, 250, 250, 250, 250, 250, 250, 250, 250, 250, 250, 250, 250, 250, 250, 250, 250, 250, 250, 250, 250, 250, 250, 250, 250, 250, 250, 250, 250, 250, 250, 250, 250, 250, 250, 250, 250, 250, 250, 250, 250, 250, 250, 250, 250, 250, 250, 250, 250, 250, 250, 250, 250, 250, 250, 250, 250, 250, 250, 250, 250, 250, 250, 250, 250, 250, 250, 250, 250, 250, 250, 250, 250, 250, 250, 250, 250, 250, 250, 250, 250, 250, 250, 250, 250, 250, 250, 250, 250, 250, 250, 250, 250, 250, 250, 250, 250, 250, 250, 250, 250, 250, 250, 250, 250, 250, 250, 250, 250, 250, 250, 250, 250, 250, 250, 250, 250, 250, 250, 250, 250, 250, 250, 250, 250, 250, 250, 250, 250, 250, 250, 250, 250, 250, 250, 250, 250, 250, 250, 250, 250, 250, 250, 250, 250, 250, 250, 250, 250, 250, 250, 250, 250, 250, 250, 250, 250, 250, 250, 250, 250, 250, 250, 250, 250, 250, 250, 250, 250, 250, 250, 250, 250, 250, 250, 250, 250, 250, 250, 250, 250, 250, 250, 250, 250, 250, 250, 250, 250, 250, 250, 250, 250, 250, 250, 250, 250, 250, 250, 250, 250, 250, 250, 250, 250, 250, 250, 250, 250, 250, 250, 250, 250, 250, 250, 250, 250, 250, 250, 250, 250, 250, 250, 250, 250, 250, 250, 250, 250, 250, 250, 250, 250, 250, 250, 250, 250, 250, 250, 250, 250, 250, 250, 250, 250, 250, 250, 250, 250, 250, 250, 250, 250, 250, 250, 250, 250, 250, 250, 250, 250, 250, 250, 250, 250, 250, 250, 250, 250, 250, 250, 250, 250, 250, 250, 250, 250, 250, 250, 250, 250, 250, 250, 250, 250, 250, 250, 250, 250, 250, 250, 250, 250, 250, 250, 250, 250, 250, 250, 250, 250, 250, 250, 250, 250, 250, 250, 250, 250, 250, 250, 250, 250, 250, 250, 250, 250, 250, 250, 250, 250, 250, 250, 250, 250, 250, 250, 250, 250, 250, 250, 250, 250, 250, 250, 250, 250, 250, 250, 250, 250, 250, 250, 250, 250, 250, 250, 250, 250, 250, 250, 250, 250, 250, 250, 250, 250, 250, 250, 250, 250, 250, 250, 250, 250, 250, 250, 250, 250, 250, 250, 250, 250, 250, 250, 250, 250, 250, 250, 250, 250, 250, 250, 250, 250, 250, 250, 250, 250, 250, 250, 250, 250, 250, 250, 250, 250, 250, 250, 250, 250, 250, 250, 250, 250, 250, 250, 250, 250, 250, 250, 250, 250, 250, 250, 250, 250, 250, 250, 250, 250, 250, 250, 250, 250, 250, 250, 250, 250, 250, 250, 250, 250, 250, 250, 250, 250, 250, 250, 250, 250, 250, 250, 250, 250, 250, 250, 250, 250, 250, 250, 250, 250, 250, 250, 250, 250, 250, 250, 250, 250, 250, 250, 250, 250, 250, 250, 250, 250, 250, 250, 250, 250, 250, 250, 250, 250, 250, 250, 250, 250, 250, 250, 250, 250, 250, 250, 250, 250, 250, 250, 250, 250, 250, 250, 250, 250, 250, 250, 250, 250, 250, 250, 250, 250, 250, 250, 250, 250, 250, 250, 250, 250, 250, 250, 250, 250, 250, 250, 250, 250, 250, 250, 250, 250, 250, 250, 250, 250, 250, 250, 250, 250, 250, 250, 250, 250, 250, 250, 250, 250, 250, 250, 250, 250, 250, 250, 250, 250, 250, 250, 250, 250, 250, 250, 250, 250, 250, 250, 250, 250, 250, 250, 250, 250, 250, 250, 250, 250, 250, 250, 250, 250, 250, 250, 250, 250, 250, 250, 250, 250, 250, 250, 250, 250, 250, 250, 250, 250, 250, 250, 250, 250, 250, 250, 250, 250, 250, 250, 250, 250, 250, 250, 250, 250, 250, 250, 250, 250, 250, 250, 250, 250, 250, 250, 250]\n"
          ]
        }
      ],
      "source": [
        "#sanity check\n",
        "print(sum(gat in tup[0] for tup in zips[:500]))\n",
        "print(all(gat in tup[0] for tup in shortzips if tup[1] == 1))\n",
        "print(all(gat not in tup[0] for tup in zips if tup[1] == 0))\n",
        "print(all([len(tup[0]) == 250 for tup in zips]))\n",
        "print([len(tup[0]) for tup in zips])"
      ]
    },
    {
      "cell_type": "markdown",
      "metadata": {
        "id": "cazKa1B23eMn"
      },
      "source": [
        "# 2. Building Datasets and Dataloaders + Encoding Data"
      ]
    },
    {
      "cell_type": "markdown",
      "metadata": {
        "id": "6E7LXnrRO7Ao"
      },
      "source": [
        "## Sequence Datasets + DLs"
      ]
    },
    {
      "cell_type": "code",
      "execution_count": null,
      "metadata": {
        "colab": {
          "base_uri": "https://localhost:8080/"
        },
        "id": "g8FzlPrXGwKr",
        "outputId": "9d726daa-b972-4c6b-b598-93560056f011"
      },
      "outputs": [
        {
          "output_type": "stream",
          "name": "stdout",
          "text": [
            "{0: 'A', 1: 'C', 2: 'G', 3: 'T'}\n"
          ]
        }
      ],
      "source": [
        "# char to int conversion dictionaries\n",
        "btoi = {'A': 0, 'C': 1, 'G': 2, 'T': 3}\n",
        "itob = {i:b for b,i in btoi.items()}\n",
        "print(itob)"
      ]
    },
    {
      "cell_type": "code",
      "execution_count": null,
      "metadata": {
        "id": "v9pwPJYtqmEE"
      },
      "outputs": [],
      "source": [
        "class SeqDatasetOHE(Dataset):\n",
        "    def __init__(self,\n",
        "                 df,\n",
        "                 seq_col='seq',\n",
        "                 target_col='score'\n",
        "                ):\n",
        "\n",
        "        self.ohe_seqs = df[0]\n",
        "        self.seq_len = len(self.ohe_seqs[0])\n",
        "        self.labels = df[1].unsqueeze(1)\n",
        "\n",
        "    def __len__(self): return len(self.ohe_seqs)\n",
        "\n",
        "    def __getitem__(self,idx):\n",
        "        # Given an index, return a tuple of an X with it's associated Y\n",
        "        # This is called inside DataLoader\n",
        "        seq = self.ohe_seqs[idx]\n",
        "        label = self.labels[idx]\n",
        "\n",
        "        return seq, label\n",
        "def build_dataset(tuples):\n",
        "  X, Y = [], []\n",
        "  for tup in tuples:\n",
        "    temp = []\n",
        "    for b in tup[0]:\n",
        "      ib = btoi[b]\n",
        "      temp.append(ib)\n",
        "    X.append(temp)\n",
        "    Y.append(tup[1])\n",
        "\n",
        "  X = Tensor(X)\n",
        "  Y = Tensor(Y)\n",
        "  X = X.view(X.shape[0], -1)\n",
        "  Y = Y.view(Y.shape[0], 1, 1)\n",
        "  print(X.shape, Y.shape)\n",
        "  return X, Y\n",
        "\n",
        "def enc(x):\n",
        "  xenc = F.one_hot(x.to(torch.int64), num_classes = 4)\n",
        "  xenc = xenc.permute((0,2,1))\n",
        "  xenc = xenc.float()\n",
        "  return xenc"
      ]
    },
    {
      "cell_type": "code",
      "execution_count": null,
      "metadata": {
        "colab": {
          "base_uri": "https://localhost:8080/"
        },
        "id": "DPY6j75_GJtd",
        "outputId": "f35a431e-9881-4f8d-d6bc-ecb455185627"
      },
      "outputs": [
        {
          "output_type": "stream",
          "name": "stdout",
          "text": [
            "torch.Size([800, 250]) torch.Size([800, 1, 1])\n",
            "torch.Size([100, 250]) torch.Size([100, 1, 1])\n",
            "torch.Size([100, 250]) torch.Size([100, 1, 1])\n",
            "torch.Size([800, 7]) torch.Size([800, 1, 1])\n",
            "torch.Size([100, 7]) torch.Size([100, 1, 1])\n",
            "torch.Size([100, 7]) torch.Size([100, 1, 1])\n",
            "torch.Size([800, 7]) torch.Size([800, 1, 1])\n",
            "torch.Size([100, 7]) torch.Size([100, 1, 1])\n",
            "torch.Size([100, 7]) torch.Size([100, 1, 1])\n"
          ]
        }
      ],
      "source": [
        "# extract data from zips\n",
        "n1 = int(0.8*len(zips))\n",
        "n2 = int(0.9*len(zips))\n",
        "Xtr,  Ytr  = build_dataset(zips[:n1])     # 80%\n",
        "Xdev, Ydev = build_dataset(zips[n1:n2])   # 10%\n",
        "Xte,  Yte  = build_dataset(zips[n2:])     # 10%\n",
        "\n",
        "# short test data\n",
        "sXtr, sYtr = build_dataset(shortzips[:n1])\n",
        "sXdev, sYdev = build_dataset(shortzips[n1:n2])   # 10%\n",
        "sXte,  sYte  = build_dataset(shortzips[n2:])     # 10%\n",
        "\n",
        "# seven scale data\n",
        "sevXtr, sevYtr = build_dataset(sevzips[:n1])\n",
        "sevXdev, sevYdev = build_dataset(sevzips[n1:n2])   # 10%\n",
        "sevXte,  sevYte  = build_dataset(sevzips[n2:])     # 10%\n",
        "\n",
        "\n",
        "# encode data one hot\n",
        "Xtr = enc(Xtr)\n",
        "Xdev = enc(Xdev)\n",
        "Xte = enc(Xte)\n",
        "sXtr = enc(sXtr)\n",
        "sXdev = enc(sXdev)\n",
        "sXte = enc(sXte)\n",
        "sevXtr = enc(sevXtr)\n",
        "sevXdev = enc(sevXdev)\n",
        "sevXte = enc(sevXte)\n",
        "\n",
        "#build tuples of data\n",
        "train_df = (Xtr, Ytr)\n",
        "val_df = (Xdev, Ydev)\n",
        "sTrain_df = (sXtr, sYtr)\n",
        "sVal_df = (sXdev, sYdev)\n",
        "sevTrain_df = (sevXtr, sevYtr)\n",
        "sevVal_df = (sevXdev, sevYdev)\n",
        "\n",
        "train_ds = SeqDatasetOHE(train_df,seq_col='seq',target_col='score')\n",
        "val_ds = SeqDatasetOHE(val_df,seq_col='seq',target_col='score')\n",
        "sTrain_ds = SeqDatasetOHE(sTrain_df,seq_col='seq',target_col='score')\n",
        "sVal_ds = SeqDatasetOHE(sVal_df,seq_col='seq',target_col='score')\n",
        "sevTrain_ds = SeqDatasetOHE(sevTrain_df,seq_col='seq',target_col='score')\n",
        "sevVal_ds = SeqDatasetOHE(sevVal_df,seq_col='seq',target_col='score')"
      ]
    },
    {
      "cell_type": "code",
      "execution_count": null,
      "metadata": {
        "id": "m07U1p8JYe3_"
      },
      "outputs": [],
      "source": [
        "#data loaders\n",
        "def build_dataloaders(trainData,\n",
        "                      valData,\n",
        "                      batch_size = 200\n",
        "                      ):\n",
        "  train_dl = DataLoader(trainData, batch_size=batch_size)\n",
        "  val_dl = DataLoader(valData, batch_size=batch_size)\n",
        "  return train_dl, val_dl"
      ]
    },
    {
      "cell_type": "code",
      "execution_count": null,
      "metadata": {
        "id": "SFtm0GElZZB9"
      },
      "outputs": [],
      "source": [
        "xTr_dl, xVal_dl = build_dataloaders(train_ds, val_ds)\n",
        "sxTr_dl, sxVal_dl = build_dataloaders(sTrain_ds, sVal_ds)\n",
        "sevxTr_dl, sevxVal_dl = build_dataloaders(sevTrain_ds, sevVal_ds)"
      ]
    },
    {
      "cell_type": "markdown",
      "metadata": {
        "id": "50Wo0IVYOhb5"
      },
      "source": [
        "## Line Data Test"
      ]
    },
    {
      "cell_type": "code",
      "execution_count": null,
      "metadata": {
        "id": "1NOR6UJ_OghC"
      },
      "outputs": [],
      "source": [
        "def random_list(length):\n",
        "  return_list = []\n",
        "  for _ in range(length):\n",
        "    rand = np.random.randint(-1000, 1000)\n",
        "    return_list.append(rand)\n",
        "  return return_list\n",
        "def line(input_list):\n",
        "  return_list = []\n",
        "  for x in input_list:\n",
        "    y = 5 * x + 3\n",
        "    return_list.append(y)\n",
        "  return return_list\n"
      ]
    },
    {
      "cell_type": "code",
      "execution_count": null,
      "metadata": {
        "colab": {
          "base_uri": "https://localhost:8080/",
          "height": 466
        },
        "id": "QYKL5SIxPvD_",
        "outputId": "30f734a9-f4d9-4d18-d961-3a2dc766d87f"
      },
      "outputs": [
        {
          "output_type": "stream",
          "name": "stdout",
          "text": [
            "torch.Size([1000, 1, 1])\n",
            "torch.Size([1000, 1, 1])\n"
          ]
        },
        {
          "output_type": "display_data",
          "data": {
            "text/plain": [
              "<Figure size 640x480 with 1 Axes>"
            ],
            "image/png": "[encoded data removed]"
          },
          "metadata": {}
        }
      ],
      "source": [
        "list_len = 1000\n",
        "\n",
        "line_x = random_list(list_len)\n",
        "line_y = line(line_x)\n",
        "line_x = Tensor(line_x)\n",
        "line_y = Tensor(line_y)\n",
        "plt.plot(line_x, line_y)\n",
        "line_x = line_x.view(list_len, 1, 1)\n",
        "line_y = line_y.reshape(list_len , 1, 1)\n",
        "print(line_x.shape)\n",
        "print(line_y.shape)"
      ]
    },
    {
      "cell_type": "code",
      "execution_count": null,
      "metadata": {
        "id": "vY3smPDtMgkj"
      },
      "outputs": [],
      "source": [
        "class LinearDataset(Dataset):\n",
        "  def __init__(self,\n",
        "                 x,\n",
        "                 y,\n",
        "                 seq_col='seq',\n",
        "                 target_col='score'\n",
        "                ):\n",
        "\n",
        "      self.seqs = x\n",
        "      self.y = y\n",
        "      self.seq_len = 1\n",
        "      self.labels = y\n",
        "\n",
        "  def __len__(self): return len(self.seqs)\n",
        "\n",
        "  def __getitem__(self,idx):\n",
        "      # Given an index, return a tuple of an X with it's associated Y\n",
        "      # This is called inside DataLoader\n",
        "      seq = self.seqs[idx]\n",
        "      label = self.labels[idx]\n",
        "\n",
        "      return seq, label"
      ]
    },
    {
      "cell_type": "code",
      "execution_count": null,
      "metadata": {
        "id": "R6Yxq-daPL0i"
      },
      "outputs": [],
      "source": [
        "line_batch_size = 50\n",
        "\n",
        "line_df = (line_x, line_y)\n",
        "line_ds = LinearDataset(line_x, line_y, seq_col = 'seq', target_col='score')\n",
        "line_dl = DataLoader(line_ds, batch_size = line_batch_size)"
      ]
    },
    {
      "cell_type": "markdown",
      "metadata": {
        "id": "YYjk5m4Z6Qaf"
      },
      "source": [
        "# 3. Define Training Functions"
      ]
    },
    {
      "cell_type": "code",
      "execution_count": null,
      "metadata": {
        "id": "fixJ7UKxTpPB"
      },
      "outputs": [],
      "source": [
        "import torch.optim as optim\n",
        "\n",
        "def loss_batch(model=None, xb=None, yb=None, loss_func=None, opt=None, verbose=False, device=None, reg=None, lamb=None):\n",
        "  # if no optimizer provided, skip backprop\n",
        "  # if verbose:\n",
        "  decoded_xb = torch.argmax(xb, dim=1)\n",
        "  strings = []\n",
        "  for seq in decoded_xb:\n",
        "    seq_str = ''\n",
        "    for base in seq:\n",
        "      base = base.item()\n",
        "      seq_str += itob[base]\n",
        "    strings.append(seq_str)\n",
        "  ys = []\n",
        "  for item in yb:\n",
        "    item = item.item()\n",
        "    ys.append(item)\n",
        "\n",
        "  testzips = zip(strings, ys)\n",
        "\n",
        "  assert all([tup[1] != 0 for tup in testzips if tup[0] == gat]), 'data is wrongly labelled'\n",
        "  assert all([tup[0] != gat for tup in testzips if tup[1] != 1])\n",
        "  assert all([tup[0] == gat for tup in testzips if tup[1] == 1])\n",
        "\n",
        "  # print(f'xb shape: {xb.shape}')\n",
        "  xb_out = model(xb)\n",
        "  # print(f'xb_out shape: {xb_out.shape}')\n",
        "  # print(f'yb shape: {yb.shape}')\n",
        "  yb = torch.flatten(yb, 1)\n",
        "  # print(f'yb shape flat: {yb.shape}')\n",
        "\n",
        "  if reg:\n",
        "    if not lamb:\n",
        "      lamb = 0.001\n",
        "    # l1_reg = Tensor(0)\n",
        "    # for param in model.parameters():\n",
        "    #   l1_reg += lamb * abs(param)\n",
        "\n",
        "    loss = loss_func(xb_out, yb) + reg(model.parameters(), lamb)\n",
        "    # loss = loss_func(xb_out, yb) + reg(layers[0].parameters(), lamb)\n",
        "  else:\n",
        "    loss = loss_func(xb_out, yb)\n",
        "\n",
        "\n",
        "  if opt:\n",
        "    loss.backward()\n",
        "    opt.step()\n",
        "    opt.zero_grad()\n",
        "\n",
        "  return loss.item(), len(xb)\n",
        "\n",
        "def train_step(model=None, train_dl=None, loss_func=None, opt=None, device=None, reg=None, lamb=None):\n",
        "  model.train()\n",
        "  tl = [] # training losses\n",
        "  ns = [] # batch sizes\n",
        "\n",
        "  for xb, yb in train_dl:\n",
        "    xb, yb = xb.to(device), yb.to(device)\n",
        "    t, n = loss_batch(model, xb, yb, loss_func, opt = opt, device=device, reg=reg, lamb=lamb)\n",
        "    tl.append(t)\n",
        "    ns.append(n)\n",
        "\n",
        "  train_loss = np.sum(np.multiply(tl, ns)) / np.sum(ns)\n",
        "\n",
        "\n",
        "  return train_loss\n",
        "\n",
        "def val_step(model=None, val_dl=None, loss_func=None, device=None):\n",
        "  model.eval()\n",
        "  with torch.no_grad():\n",
        "    vl = []\n",
        "    ns = []\n",
        "\n",
        "    for xb, yb in val_dl:\n",
        "      xb, yb = xb.to(device), yb.to(device)\n",
        "      v, n = loss_batch(model, xb, yb, loss_func, device=device)\n",
        "      vl.append(v)\n",
        "      ns.append(n)\n",
        "\n",
        "  val_loss = np.sum(np.multiply(vl, ns)) / np.sum(ns)\n",
        "\n",
        "  return val_loss\n",
        "\n",
        "def fit(epochs=None, model=None, loss_func=None, opt=None, train_dl=None, val_dl=None, device=None, reg=None, lamb=None):\n",
        "  train_losses = []\n",
        "  val_losses = []\n",
        "  print(opt)\n",
        "  for epoch in range(epochs):\n",
        "    train_loss = train_step(model, train_dl, loss_func, opt, device=device, reg=reg, lamb=lamb)\n",
        "    train_losses.append(train_loss)\n",
        "    val_loss = val_step(model=model, val_dl=val_dl, loss_func=loss_func, device=device)\n",
        "    val_losses.append(val_loss)\n",
        "\n",
        "    print(f\"E{epoch} | train loss: {train_loss:.3f} | val loss: {val_loss:.3f}\")\n",
        "\n",
        "  return train_losses, val_losses\n",
        "\n",
        "def run(train_dl=None, val_dl=None, model=None, lr=0.01, epochs = 100, loss_func=None, opt=None, device=None, reg=None, lamb=None):\n",
        "  if not opt:\n",
        "    opt = optim.Adam(model.parameters(), lr=lr)\n",
        "  if not loss_func:\n",
        "    loss_func = nn.MSELoss()\n",
        "\n",
        "  train_losses, val_losses = fit(epochs,\n",
        "                     model,\n",
        "                     loss_func,\n",
        "                     opt,\n",
        "                     train_dl,\n",
        "                     val_dl,\n",
        "                     device=device,\n",
        "                     reg=reg,\n",
        "                     lamb=lamb\n",
        "                     )\n",
        "  return train_losses, val_losses\n"
      ]
    },
    {
      "cell_type": "code",
      "source": [
        "def l1_reg(params, l1_lambda):\n",
        "  l1_norm = sum(p.abs().sum() for p in params)\n",
        "  return l1_lambda*l1_norm\n",
        "\n",
        "def get_myLayer_from_model(model):\n",
        "    '''\n",
        "    extract custom layer weights\n",
        "    '''\n",
        "    model_children = list(model.children())\n",
        "\n",
        "    # counter to keep count of the conv layers\n",
        "    model_weights = [] # we will save the conv layer weights in this list\n",
        "    layers = [] # we will save the actual conv layers in this list\n",
        "\n",
        "    # append all the conv layers and their respective weights to the list\n",
        "    for i in range(len(model_children)):\n",
        "        # get model type of Conv1d\n",
        "        if isinstance(model_children[i], myLayer):\n",
        "            model_weights.append(model_children[i].weight)\n",
        "            layers.append(model_children[i])\n",
        "\n",
        "        # also check sequential objects' children for conv1d\n",
        "        elif isinstance(model_children[i], nn.Sequential):\n",
        "            for child in model_children[i]:\n",
        "                if isinstance(child, myLayer):\n",
        "                    model_weights.append(child.weight)\n",
        "                    layers.append(child)\n",
        "    return layers, model_weights"
      ],
      "metadata": {
        "id": "VGDgIKfvOB2d"
      },
      "execution_count": null,
      "outputs": []
    },
    {
      "cell_type": "markdown",
      "metadata": {
        "id": "f53ERILl6Z1a"
      },
      "source": [
        "# 4. Defining and Running Linear Model"
      ]
    },
    {
      "cell_type": "markdown",
      "metadata": {
        "id": "bpFIwNfbQVrK"
      },
      "source": [
        "## Linear Model"
      ]
    },
    {
      "cell_type": "code",
      "execution_count": null,
      "metadata": {
        "id": "o-91tX1ps4w_"
      },
      "outputs": [],
      "source": [
        "class LinearNet(nn.Module):\n",
        "    def __init__(self, seq_length):\n",
        "      super().__init__()\n",
        "      self.seq_length = seq_length\n",
        "      self.flatten = nn.Flatten(1)\n",
        "      self.lin1 = nn.Linear(seq_length * 4, 100, bias=True)\n",
        "      # self.lin2 = nn.Linear(100, 1)\n",
        "      self.sig = nn.Sigmoid()\n",
        "    def forward(self, x):\n",
        "\n",
        "      x = self.flatten(x)\n",
        "      # x = x.view(x.shape[0], -1, 1)\n",
        "      # print(x.shape)\n",
        "      # print(x)\n",
        "      x = self.lin1(x)\n",
        "      # x = self.sig(x)\n",
        "      # x = self.lin2(x)\n",
        "\n",
        "      # x = self.tanh(x)\n",
        "      # print(x.shape)\n",
        "      return x\n",
        "\n"
      ]
    },
    {
      "cell_type": "markdown",
      "metadata": {
        "id": "uodV1f9JQZKL"
      },
      "source": [
        "## Run"
      ]
    },
    {
      "cell_type": "code",
      "execution_count": null,
      "metadata": {
        "id": "vrgdloUhhAAP",
        "colab": {
          "base_uri": "https://localhost:8080/"
        },
        "outputId": "688efcdd-cbf0-4cb9-fe04-cf196741d082"
      },
      "outputs": [
        {
          "output_type": "stream",
          "name": "stdout",
          "text": [
            "Adam (\n",
            "Parameter Group 0\n",
            "    amsgrad: False\n",
            "    betas: (0.9, 0.999)\n",
            "    capturable: False\n",
            "    differentiable: False\n",
            "    eps: 1e-08\n",
            "    foreach: None\n",
            "    fused: None\n",
            "    lr: 0.001\n",
            "    maximize: False\n",
            "    weight_decay: 0\n",
            ")\n",
            "E0 | train loss: 0.617 | val loss: 0.544\n"
          ]
        },
        {
          "output_type": "stream",
          "name": "stderr",
          "text": [
            "/usr/local/lib/python3.10/dist-packages/torch/nn/modules/loss.py:536: UserWarning: Using a target size (torch.Size([200, 1])) that is different to the input size (torch.Size([200, 100])). This will likely lead to incorrect results due to broadcasting. Please ensure they have the same size.\n",
            "  return F.mse_loss(input, target, reduction=self.reduction)\n",
            "/usr/local/lib/python3.10/dist-packages/torch/nn/modules/loss.py:536: UserWarning: Using a target size (torch.Size([100, 1])) that is different to the input size (torch.Size([100, 100])). This will likely lead to incorrect results due to broadcasting. Please ensure they have the same size.\n",
            "  return F.mse_loss(input, target, reduction=self.reduction)\n"
          ]
        },
        {
          "output_type": "stream",
          "name": "stdout",
          "text": [
            "E1 | train loss: 0.582 | val loss: 0.513\n",
            "E2 | train loss: 0.548 | val loss: 0.484\n",
            "E3 | train loss: 0.516 | val loss: 0.456\n",
            "E4 | train loss: 0.486 | val loss: 0.430\n",
            "E5 | train loss: 0.457 | val loss: 0.405\n",
            "E6 | train loss: 0.430 | val loss: 0.381\n",
            "E7 | train loss: 0.404 | val loss: 0.359\n",
            "E8 | train loss: 0.380 | val loss: 0.338\n",
            "E9 | train loss: 0.357 | val loss: 0.318\n",
            "E10 | train loss: 0.335 | val loss: 0.300\n",
            "E11 | train loss: 0.315 | val loss: 0.283\n",
            "E12 | train loss: 0.296 | val loss: 0.266\n",
            "E13 | train loss: 0.278 | val loss: 0.251\n",
            "E14 | train loss: 0.261 | val loss: 0.237\n",
            "E15 | train loss: 0.245 | val loss: 0.223\n",
            "E16 | train loss: 0.230 | val loss: 0.211\n",
            "E17 | train loss: 0.216 | val loss: 0.199\n",
            "E18 | train loss: 0.203 | val loss: 0.188\n",
            "E19 | train loss: 0.191 | val loss: 0.177\n",
            "E20 | train loss: 0.179 | val loss: 0.168\n",
            "E21 | train loss: 0.168 | val loss: 0.159\n",
            "E22 | train loss: 0.158 | val loss: 0.150\n",
            "E23 | train loss: 0.149 | val loss: 0.143\n",
            "E24 | train loss: 0.140 | val loss: 0.135\n",
            "E25 | train loss: 0.132 | val loss: 0.128\n",
            "E26 | train loss: 0.124 | val loss: 0.122\n",
            "E27 | train loss: 0.117 | val loss: 0.116\n",
            "E28 | train loss: 0.110 | val loss: 0.111\n",
            "E29 | train loss: 0.104 | val loss: 0.106\n",
            "E30 | train loss: 0.098 | val loss: 0.101\n",
            "E31 | train loss: 0.092 | val loss: 0.096\n",
            "E32 | train loss: 0.087 | val loss: 0.092\n",
            "E33 | train loss: 0.082 | val loss: 0.088\n",
            "E34 | train loss: 0.078 | val loss: 0.085\n",
            "E35 | train loss: 0.074 | val loss: 0.081\n",
            "E36 | train loss: 0.070 | val loss: 0.078\n",
            "E37 | train loss: 0.066 | val loss: 0.076\n",
            "E38 | train loss: 0.063 | val loss: 0.073\n",
            "E39 | train loss: 0.060 | val loss: 0.070\n",
            "E40 | train loss: 0.057 | val loss: 0.068\n",
            "E41 | train loss: 0.054 | val loss: 0.066\n",
            "E42 | train loss: 0.052 | val loss: 0.064\n",
            "E43 | train loss: 0.049 | val loss: 0.062\n",
            "E44 | train loss: 0.047 | val loss: 0.061\n",
            "E45 | train loss: 0.045 | val loss: 0.059\n",
            "E46 | train loss: 0.043 | val loss: 0.058\n",
            "E47 | train loss: 0.042 | val loss: 0.056\n",
            "E48 | train loss: 0.040 | val loss: 0.055\n",
            "E49 | train loss: 0.038 | val loss: 0.054\n",
            "E50 | train loss: 0.037 | val loss: 0.053\n",
            "E51 | train loss: 0.036 | val loss: 0.052\n",
            "E52 | train loss: 0.035 | val loss: 0.051\n",
            "E53 | train loss: 0.033 | val loss: 0.050\n",
            "E54 | train loss: 0.032 | val loss: 0.049\n",
            "E55 | train loss: 0.031 | val loss: 0.049\n",
            "E56 | train loss: 0.031 | val loss: 0.048\n",
            "E57 | train loss: 0.030 | val loss: 0.047\n",
            "E58 | train loss: 0.029 | val loss: 0.047\n",
            "E59 | train loss: 0.028 | val loss: 0.046\n",
            "E60 | train loss: 0.027 | val loss: 0.046\n",
            "E61 | train loss: 0.027 | val loss: 0.045\n",
            "E62 | train loss: 0.026 | val loss: 0.045\n",
            "E63 | train loss: 0.026 | val loss: 0.044\n",
            "E64 | train loss: 0.025 | val loss: 0.044\n",
            "E65 | train loss: 0.025 | val loss: 0.044\n",
            "E66 | train loss: 0.024 | val loss: 0.043\n",
            "E67 | train loss: 0.024 | val loss: 0.043\n",
            "E68 | train loss: 0.024 | val loss: 0.043\n",
            "E69 | train loss: 0.023 | val loss: 0.043\n",
            "E70 | train loss: 0.023 | val loss: 0.042\n",
            "E71 | train loss: 0.023 | val loss: 0.042\n",
            "E72 | train loss: 0.022 | val loss: 0.042\n",
            "E73 | train loss: 0.022 | val loss: 0.042\n",
            "E74 | train loss: 0.022 | val loss: 0.042\n",
            "E75 | train loss: 0.021 | val loss: 0.041\n",
            "E76 | train loss: 0.021 | val loss: 0.041\n",
            "E77 | train loss: 0.021 | val loss: 0.041\n",
            "E78 | train loss: 0.021 | val loss: 0.041\n",
            "E79 | train loss: 0.021 | val loss: 0.041\n",
            "E80 | train loss: 0.021 | val loss: 0.041\n",
            "E81 | train loss: 0.020 | val loss: 0.041\n",
            "E82 | train loss: 0.020 | val loss: 0.040\n",
            "E83 | train loss: 0.020 | val loss: 0.040\n",
            "E84 | train loss: 0.020 | val loss: 0.040\n",
            "E85 | train loss: 0.020 | val loss: 0.040\n",
            "E86 | train loss: 0.020 | val loss: 0.040\n",
            "E87 | train loss: 0.020 | val loss: 0.040\n",
            "E88 | train loss: 0.020 | val loss: 0.040\n",
            "E89 | train loss: 0.019 | val loss: 0.040\n",
            "E90 | train loss: 0.019 | val loss: 0.040\n",
            "E91 | train loss: 0.019 | val loss: 0.040\n",
            "E92 | train loss: 0.019 | val loss: 0.040\n",
            "E93 | train loss: 0.019 | val loss: 0.040\n",
            "E94 | train loss: 0.019 | val loss: 0.039\n",
            "E95 | train loss: 0.019 | val loss: 0.039\n",
            "E96 | train loss: 0.019 | val loss: 0.039\n",
            "E97 | train loss: 0.019 | val loss: 0.039\n",
            "E98 | train loss: 0.019 | val loss: 0.039\n",
            "E99 | train loss: 0.019 | val loss: 0.039\n"
          ]
        }
      ],
      "source": [
        "model_lin = LinearNet(seq_length=7)\n",
        "lin_losses = run(sxTr_dl,\n",
        "                 sxVal_dl,\n",
        "                 model_lin,\n",
        "                 lr = 0.001,\n",
        "                 epochs = 100\n",
        "                 )"
      ]
    },
    {
      "cell_type": "code",
      "execution_count": null,
      "metadata": {
        "id": "YC-zgv_bzhPU",
        "colab": {
          "base_uri": "https://localhost:8080/"
        },
        "outputId": "2603e474-58dc-4faa-bb8c-b54466a2cf57"
      },
      "outputs": [
        {
          "output_type": "stream",
          "name": "stdout",
          "text": [
            "Adam (\n",
            "Parameter Group 0\n",
            "    amsgrad: False\n",
            "    betas: (0.9, 0.999)\n",
            "    capturable: False\n",
            "    differentiable: False\n",
            "    eps: 1e-08\n",
            "    foreach: None\n",
            "    fused: None\n",
            "    lr: 0.01\n",
            "    maximize: False\n",
            "    weight_decay: 0\n",
            ")\n",
            "E0 | train loss: 25.983 | val loss: 24.446\n",
            "E1 | train loss: 23.361 | val loss: 21.935\n",
            "E2 | train loss: 20.959 | val loss: 19.646\n",
            "E3 | train loss: 18.779 | val loss: 17.578\n",
            "E4 | train loss: 16.813 | val loss: 15.717\n",
            "E5 | train loss: 15.042 | val loss: 14.040\n",
            "E6 | train loss: 13.443 | val loss: 12.523\n",
            "E7 | train loss: 11.989 | val loss: 11.143\n",
            "E8 | train loss: 10.662 | val loss: 9.882\n",
            "E9 | train loss: 9.446 | val loss: 8.731\n",
            "E10 | train loss: 8.333 | val loss: 7.681\n",
            "E11 | train loss: 7.320 | val loss: 6.729\n",
            "E12 | train loss: 6.401 | val loss: 5.870\n",
            "E13 | train loss: 5.573 | val loss: 5.100\n",
            "E14 | train loss: 4.832 | val loss: 4.413\n",
            "E15 | train loss: 4.173 | val loss: 3.802\n",
            "E16 | train loss: 3.588 | val loss: 3.263\n",
            "E17 | train loss: 3.073 | val loss: 2.788\n",
            "E18 | train loss: 2.621 | val loss: 2.373\n",
            "E19 | train loss: 2.226 | val loss: 2.010\n",
            "E20 | train loss: 1.882 | val loss: 1.696\n",
            "E21 | train loss: 1.585 | val loss: 1.424\n",
            "E22 | train loss: 1.328 | val loss: 1.191\n",
            "E23 | train loss: 1.108 | val loss: 0.991\n",
            "E24 | train loss: 0.921 | val loss: 0.822\n",
            "E25 | train loss: 0.762 | val loss: 0.678\n",
            "E26 | train loss: 0.627 | val loss: 0.557\n",
            "E27 | train loss: 0.515 | val loss: 0.456\n",
            "E28 | train loss: 0.420 | val loss: 0.372\n",
            "E29 | train loss: 0.341 | val loss: 0.302\n",
            "E30 | train loss: 0.276 | val loss: 0.244\n",
            "E31 | train loss: 0.223 | val loss: 0.196\n",
            "E32 | train loss: 0.179 | val loss: 0.157\n",
            "E33 | train loss: 0.143 | val loss: 0.126\n",
            "E34 | train loss: 0.114 | val loss: 0.100\n",
            "E35 | train loss: 0.090 | val loss: 0.079\n",
            "E36 | train loss: 0.072 | val loss: 0.063\n",
            "E37 | train loss: 0.056 | val loss: 0.050\n",
            "E38 | train loss: 0.044 | val loss: 0.039\n",
            "E39 | train loss: 0.035 | val loss: 0.031\n",
            "E40 | train loss: 0.027 | val loss: 0.024\n",
            "E41 | train loss: 0.021 | val loss: 0.019\n",
            "E42 | train loss: 0.017 | val loss: 0.015\n",
            "E43 | train loss: 0.013 | val loss: 0.012\n",
            "E44 | train loss: 0.010 | val loss: 0.009\n",
            "E45 | train loss: 0.008 | val loss: 0.008\n",
            "E46 | train loss: 0.007 | val loss: 0.006\n",
            "E47 | train loss: 0.005 | val loss: 0.005\n",
            "E48 | train loss: 0.004 | val loss: 0.004\n",
            "E49 | train loss: 0.003 | val loss: 0.003\n",
            "E50 | train loss: 0.003 | val loss: 0.003\n",
            "E51 | train loss: 0.002 | val loss: 0.002\n",
            "E52 | train loss: 0.002 | val loss: 0.002\n",
            "E53 | train loss: 0.002 | val loss: 0.002\n",
            "E54 | train loss: 0.002 | val loss: 0.002\n",
            "E55 | train loss: 0.001 | val loss: 0.001\n",
            "E56 | train loss: 0.001 | val loss: 0.001\n",
            "E57 | train loss: 0.001 | val loss: 0.001\n",
            "E58 | train loss: 0.001 | val loss: 0.001\n",
            "E59 | train loss: 0.001 | val loss: 0.001\n",
            "E60 | train loss: 0.001 | val loss: 0.001\n",
            "E61 | train loss: 0.001 | val loss: 0.001\n",
            "E62 | train loss: 0.001 | val loss: 0.001\n",
            "E63 | train loss: 0.001 | val loss: 0.001\n",
            "E64 | train loss: 0.001 | val loss: 0.001\n",
            "E65 | train loss: 0.001 | val loss: 0.001\n",
            "E66 | train loss: 0.000 | val loss: 0.001\n",
            "E67 | train loss: 0.000 | val loss: 0.000\n",
            "E68 | train loss: 0.000 | val loss: 0.000\n",
            "E69 | train loss: 0.000 | val loss: 0.000\n",
            "E70 | train loss: 0.000 | val loss: 0.000\n",
            "E71 | train loss: 0.000 | val loss: 0.000\n",
            "E72 | train loss: 0.000 | val loss: 0.000\n",
            "E73 | train loss: 0.000 | val loss: 0.000\n",
            "E74 | train loss: 0.000 | val loss: 0.000\n",
            "E75 | train loss: 0.000 | val loss: 0.000\n",
            "E76 | train loss: 0.000 | val loss: 0.000\n",
            "E77 | train loss: 0.000 | val loss: 0.000\n",
            "E78 | train loss: 0.000 | val loss: 0.000\n",
            "E79 | train loss: 0.000 | val loss: 0.000\n",
            "E80 | train loss: 0.000 | val loss: 0.000\n",
            "E81 | train loss: 0.000 | val loss: 0.000\n",
            "E82 | train loss: 0.000 | val loss: 0.000\n",
            "E83 | train loss: 0.000 | val loss: 0.000\n",
            "E84 | train loss: 0.000 | val loss: 0.000\n",
            "E85 | train loss: 0.000 | val loss: 0.000\n",
            "E86 | train loss: 0.000 | val loss: 0.000\n",
            "E87 | train loss: 0.000 | val loss: 0.000\n",
            "E88 | train loss: 0.000 | val loss: 0.000\n",
            "E89 | train loss: 0.000 | val loss: 0.000\n",
            "E90 | train loss: 0.000 | val loss: 0.000\n",
            "E91 | train loss: 0.000 | val loss: 0.000\n",
            "E92 | train loss: 0.000 | val loss: 0.000\n",
            "E93 | train loss: 0.000 | val loss: 0.000\n",
            "E94 | train loss: 0.000 | val loss: 0.000\n",
            "E95 | train loss: 0.000 | val loss: 0.000\n",
            "E96 | train loss: 0.000 | val loss: 0.000\n",
            "E97 | train loss: 0.000 | val loss: 0.000\n",
            "E98 | train loss: 0.000 | val loss: 0.000\n",
            "E99 | train loss: 0.000 | val loss: 0.000\n"
          ]
        }
      ],
      "source": [
        "# run linear model on 7 scale data\n",
        "model_sevLin = LinearNet(seq_length=7)\n",
        "sevLin_losses = run(sevxTr_dl,\n",
        "                 sevxVal_dl,\n",
        "                 model_sevLin,\n",
        "                 )"
      ]
    },
    {
      "cell_type": "code",
      "execution_count": null,
      "metadata": {
        "id": "xcqgmYsY9zuu",
        "colab": {
          "base_uri": "https://localhost:8080/"
        },
        "outputId": "a63174bf-2f78-4166-8fab-68d949af7d75"
      },
      "outputs": [
        {
          "output_type": "stream",
          "name": "stdout",
          "text": [
            "Adam (\n",
            "Parameter Group 0\n",
            "    amsgrad: False\n",
            "    betas: (0.9, 0.999)\n",
            "    capturable: False\n",
            "    differentiable: False\n",
            "    eps: 1e-08\n",
            "    foreach: None\n",
            "    fused: None\n",
            "    lr: 0.0001\n",
            "    maximize: False\n",
            "    weight_decay: 0\n",
            ")\n",
            "E0 | train loss: 0.523 | val loss: 0.543\n",
            "E1 | train loss: 0.447 | val loss: 0.463\n",
            "E2 | train loss: 0.391 | val loss: 0.403\n",
            "E3 | train loss: 0.354 | val loss: 0.362\n",
            "E4 | train loss: 0.332 | val loss: 0.336\n",
            "E5 | train loss: 0.321 | val loss: 0.321\n",
            "E6 | train loss: 0.315 | val loss: 0.313\n",
            "E7 | train loss: 0.312 | val loss: 0.310\n",
            "E8 | train loss: 0.310 | val loss: 0.308\n",
            "E9 | train loss: 0.309 | val loss: 0.308\n",
            "E10 | train loss: 0.307 | val loss: 0.309\n",
            "E11 | train loss: 0.306 | val loss: 0.310\n",
            "E12 | train loss: 0.304 | val loss: 0.310\n",
            "E13 | train loss: 0.302 | val loss: 0.311\n",
            "E14 | train loss: 0.301 | val loss: 0.311\n",
            "E15 | train loss: 0.299 | val loss: 0.311\n",
            "E16 | train loss: 0.298 | val loss: 0.311\n",
            "E17 | train loss: 0.296 | val loss: 0.311\n",
            "E18 | train loss: 0.295 | val loss: 0.310\n",
            "E19 | train loss: 0.293 | val loss: 0.310\n",
            "E20 | train loss: 0.292 | val loss: 0.309\n",
            "E21 | train loss: 0.290 | val loss: 0.309\n",
            "E22 | train loss: 0.289 | val loss: 0.309\n",
            "E23 | train loss: 0.287 | val loss: 0.308\n",
            "E24 | train loss: 0.286 | val loss: 0.308\n",
            "E25 | train loss: 0.284 | val loss: 0.308\n",
            "E26 | train loss: 0.283 | val loss: 0.307\n",
            "E27 | train loss: 0.281 | val loss: 0.307\n",
            "E28 | train loss: 0.280 | val loss: 0.307\n",
            "E29 | train loss: 0.278 | val loss: 0.306\n",
            "E30 | train loss: 0.277 | val loss: 0.306\n",
            "E31 | train loss: 0.275 | val loss: 0.306\n",
            "E32 | train loss: 0.274 | val loss: 0.306\n",
            "E33 | train loss: 0.272 | val loss: 0.305\n",
            "E34 | train loss: 0.271 | val loss: 0.305\n",
            "E35 | train loss: 0.269 | val loss: 0.305\n",
            "E36 | train loss: 0.268 | val loss: 0.304\n",
            "E37 | train loss: 0.266 | val loss: 0.304\n",
            "E38 | train loss: 0.265 | val loss: 0.304\n",
            "E39 | train loss: 0.263 | val loss: 0.304\n",
            "E40 | train loss: 0.262 | val loss: 0.303\n",
            "E41 | train loss: 0.260 | val loss: 0.303\n",
            "E42 | train loss: 0.259 | val loss: 0.303\n",
            "E43 | train loss: 0.258 | val loss: 0.303\n",
            "E44 | train loss: 0.256 | val loss: 0.302\n",
            "E45 | train loss: 0.255 | val loss: 0.302\n",
            "E46 | train loss: 0.253 | val loss: 0.302\n",
            "E47 | train loss: 0.252 | val loss: 0.302\n",
            "E48 | train loss: 0.251 | val loss: 0.301\n",
            "E49 | train loss: 0.249 | val loss: 0.301\n",
            "E50 | train loss: 0.248 | val loss: 0.301\n",
            "E51 | train loss: 0.246 | val loss: 0.301\n",
            "E52 | train loss: 0.245 | val loss: 0.300\n",
            "E53 | train loss: 0.244 | val loss: 0.300\n",
            "E54 | train loss: 0.242 | val loss: 0.300\n",
            "E55 | train loss: 0.241 | val loss: 0.300\n",
            "E56 | train loss: 0.240 | val loss: 0.300\n",
            "E57 | train loss: 0.238 | val loss: 0.299\n",
            "E58 | train loss: 0.237 | val loss: 0.299\n",
            "E59 | train loss: 0.236 | val loss: 0.299\n",
            "E60 | train loss: 0.234 | val loss: 0.299\n",
            "E61 | train loss: 0.233 | val loss: 0.299\n",
            "E62 | train loss: 0.232 | val loss: 0.299\n",
            "E63 | train loss: 0.231 | val loss: 0.298\n",
            "E64 | train loss: 0.229 | val loss: 0.298\n",
            "E65 | train loss: 0.228 | val loss: 0.298\n",
            "E66 | train loss: 0.227 | val loss: 0.298\n",
            "E67 | train loss: 0.226 | val loss: 0.298\n",
            "E68 | train loss: 0.224 | val loss: 0.298\n",
            "E69 | train loss: 0.223 | val loss: 0.297\n",
            "E70 | train loss: 0.222 | val loss: 0.297\n",
            "E71 | train loss: 0.221 | val loss: 0.297\n",
            "E72 | train loss: 0.220 | val loss: 0.297\n",
            "E73 | train loss: 0.218 | val loss: 0.297\n",
            "E74 | train loss: 0.217 | val loss: 0.297\n",
            "E75 | train loss: 0.216 | val loss: 0.297\n",
            "E76 | train loss: 0.215 | val loss: 0.297\n",
            "E77 | train loss: 0.214 | val loss: 0.297\n",
            "E78 | train loss: 0.213 | val loss: 0.296\n",
            "E79 | train loss: 0.212 | val loss: 0.296\n",
            "E80 | train loss: 0.211 | val loss: 0.296\n",
            "E81 | train loss: 0.210 | val loss: 0.296\n",
            "E82 | train loss: 0.208 | val loss: 0.296\n",
            "E83 | train loss: 0.207 | val loss: 0.296\n",
            "E84 | train loss: 0.206 | val loss: 0.296\n",
            "E85 | train loss: 0.205 | val loss: 0.296\n",
            "E86 | train loss: 0.204 | val loss: 0.296\n",
            "E87 | train loss: 0.203 | val loss: 0.296\n",
            "E88 | train loss: 0.202 | val loss: 0.296\n",
            "E89 | train loss: 0.201 | val loss: 0.296\n",
            "E90 | train loss: 0.200 | val loss: 0.296\n",
            "E91 | train loss: 0.199 | val loss: 0.296\n",
            "E92 | train loss: 0.198 | val loss: 0.295\n",
            "E93 | train loss: 0.197 | val loss: 0.295\n",
            "E94 | train loss: 0.196 | val loss: 0.295\n",
            "E95 | train loss: 0.195 | val loss: 0.295\n",
            "E96 | train loss: 0.194 | val loss: 0.295\n",
            "E97 | train loss: 0.193 | val loss: 0.295\n",
            "E98 | train loss: 0.192 | val loss: 0.295\n",
            "E99 | train loss: 0.192 | val loss: 0.295\n"
          ]
        }
      ],
      "source": [
        "model_lin_250 = LinearNet(seq_length=250)\n",
        "lin_250_losses = run(xTr_dl,\n",
        "                     xVal_dl,\n",
        "                     model_lin_250,\n",
        "                     lr = 0.0001\n",
        "                     )"
      ]
    },
    {
      "cell_type": "code",
      "source": [
        "from torchvision import models\n",
        "from torchsummary import summary\n",
        "\n",
        "summary(model_lin, (4, 7))"
      ],
      "metadata": {
        "colab": {
          "base_uri": "https://localhost:8080/"
        },
        "id": "Z9RlD9mIQF6g",
        "outputId": "f0ecf862-73b6-4c09-f229-8fc5a8a2bf75"
      },
      "execution_count": null,
      "outputs": [
        {
          "output_type": "stream",
          "name": "stdout",
          "text": [
            "----------------------------------------------------------------\n",
            "        Layer (type)               Output Shape         Param #\n",
            "================================================================\n",
            "           Flatten-1                   [-1, 28]               0\n",
            "            Linear-2                  [-1, 100]           2,900\n",
            "================================================================\n",
            "Total params: 2,900\n",
            "Trainable params: 2,900\n",
            "Non-trainable params: 0\n",
            "----------------------------------------------------------------\n",
            "Input size (MB): 0.00\n",
            "Forward/backward pass size (MB): 0.00\n",
            "Params size (MB): 0.01\n",
            "Estimated Total Size (MB): 0.01\n",
            "----------------------------------------------------------------\n"
          ]
        }
      ]
    },
    {
      "cell_type": "markdown",
      "metadata": {
        "id": "ksDABkFZRoBg"
      },
      "source": [
        "## Line Test"
      ]
    },
    {
      "cell_type": "code",
      "execution_count": null,
      "metadata": {
        "id": "pJZt_MVTRsb7"
      },
      "outputs": [],
      "source": [
        "class LineLinearNet(nn.Module):\n",
        "  def __init__(self):\n",
        "      super().__init__()\n",
        "      self.flatten = nn.Flatten(1)\n",
        "      self.lin1 = nn.Linear(1, 1)\n",
        "      self.lin2 = nn.Linear(100, 1)\n",
        "      self.sig = nn.Sigmoid()\n",
        "\n",
        "      # with torch.no_grad():\n",
        "      #     self.lin1.weight.data = torch.tensor([5.], requires_grad=True)[:, None]\n",
        "      #     self.lin1.bias.data = torch.full((50, 1), 3., requires_grad=True)  # bias is not a scalar her\n",
        "  def forward(self, x):\n",
        "      # print(x.shape)\n",
        "      x = self.flatten(x)\n",
        "      # print(x.shape)\n",
        "      x = self.lin1(x)\n",
        "      # x = x * torch.tensor([5.], requires_grad=True)\n",
        "      # x = x + 3\n",
        "      # x = self.lin2(x)\n",
        "      # x = self.sig(x)\n",
        "\n",
        "      # x = self.tanh(x)\n",
        "      # print(x.shape)\n",
        "      return x"
      ]
    },
    {
      "cell_type": "code",
      "execution_count": null,
      "metadata": {
        "colab": {
          "base_uri": "https://localhost:8080/"
        },
        "id": "b-5EMT32Qcdo",
        "outputId": "b371014c-7a93-45fb-9e2d-42fd64c4a461"
      },
      "outputs": [
        {
          "output_type": "stream",
          "name": "stdout",
          "text": [
            "Adam (\n",
            "Parameter Group 0\n",
            "    amsgrad: False\n",
            "    betas: (0.9, 0.999)\n",
            "    capturable: False\n",
            "    differentiable: False\n",
            "    eps: 1e-08\n",
            "    foreach: None\n",
            "    fused: None\n",
            "    lr: 0.1\n",
            "    maximize: False\n",
            "    weight_decay: 0\n",
            ")\n",
            "E0 | train loss: 4340184.987 | val loss: 2245497.569\n",
            "E1 | train loss: 1186931.781 | val loss: 402289.836\n",
            "E2 | train loss: 156838.847 | val loss: 20626.147\n",
            "E3 | train loss: 4461.817 | val loss: 443.763\n",
            "E4 | train loss: 920.638 | val loss: 744.119\n",
            "E5 | train loss: 325.556 | val loss: 53.014\n",
            "E6 | train loss: 27.407 | val loss: 24.627\n",
            "E7 | train loss: 23.638 | val loss: 21.122\n",
            "E8 | train loss: 19.853 | val loss: 19.314\n",
            "E9 | train loss: 19.052 | val loss: 18.714\n",
            "E10 | train loss: 18.416 | val loss: 18.066\n",
            "E11 | train loss: 17.770 | val loss: 17.430\n",
            "E12 | train loss: 17.128 | val loss: 16.786\n",
            "E13 | train loss: 16.484 | val loss: 16.140\n",
            "E14 | train loss: 15.838 | val loss: 15.492\n",
            "E15 | train loss: 15.191 | val loss: 14.847\n",
            "E16 | train loss: 14.547 | val loss: 14.205\n",
            "E17 | train loss: 13.909 | val loss: 13.571\n",
            "E18 | train loss: 13.277 | val loss: 12.944\n",
            "E19 | train loss: 12.655 | val loss: 12.328\n",
            "E20 | train loss: 12.044 | val loss: 11.723\n",
            "E21 | train loss: 11.445 | val loss: 11.130\n",
            "E22 | train loss: 10.859 | val loss: 10.552\n",
            "E23 | train loss: 10.288 | val loss: 9.989\n",
            "E24 | train loss: 9.733 | val loss: 9.443\n",
            "E25 | train loss: 9.194 | val loss: 8.913\n",
            "E26 | train loss: 8.672 | val loss: 8.400\n",
            "E27 | train loss: 8.168 | val loss: 7.906\n",
            "E28 | train loss: 7.682 | val loss: 7.430\n",
            "E29 | train loss: 7.215 | val loss: 6.972\n",
            "E30 | train loss: 6.766 | val loss: 6.534\n",
            "E31 | train loss: 6.336 | val loss: 6.113\n",
            "E32 | train loss: 5.925 | val loss: 5.712\n",
            "E33 | train loss: 5.532 | val loss: 5.330\n",
            "E34 | train loss: 5.158 | val loss: 4.966\n",
            "E35 | train loss: 4.803 | val loss: 4.620\n",
            "E36 | train loss: 4.465 | val loss: 4.292\n",
            "E37 | train loss: 4.145 | val loss: 3.981\n",
            "E38 | train loss: 3.843 | val loss: 3.688\n",
            "E39 | train loss: 3.557 | val loss: 3.411\n",
            "E40 | train loss: 3.288 | val loss: 3.150\n",
            "E41 | train loss: 3.035 | val loss: 2.906\n",
            "E42 | train loss: 2.797 | val loss: 2.676\n",
            "E43 | train loss: 2.574 | val loss: 2.460\n",
            "E44 | train loss: 2.365 | val loss: 2.259\n",
            "E45 | train loss: 2.170 | val loss: 2.071\n",
            "E46 | train loss: 1.989 | val loss: 1.896\n",
            "E47 | train loss: 1.819 | val loss: 1.733\n",
            "E48 | train loss: 1.662 | val loss: 1.582\n",
            "E49 | train loss: 1.516 | val loss: 1.442\n",
            "E50 | train loss: 1.381 | val loss: 1.312\n",
            "E51 | train loss: 1.255 | val loss: 1.192\n",
            "E52 | train loss: 1.140 | val loss: 1.082\n",
            "E53 | train loss: 1.034 | val loss: 0.980\n",
            "E54 | train loss: 0.936 | val loss: 0.886\n",
            "E55 | train loss: 0.846 | val loss: 0.800\n",
            "E56 | train loss: 0.763 | val loss: 0.722\n",
            "E57 | train loss: 0.687 | val loss: 0.650\n",
            "E58 | train loss: 0.618 | val loss: 0.584\n",
            "E59 | train loss: 0.555 | val loss: 0.524\n",
            "E60 | train loss: 0.498 | val loss: 0.469\n",
            "E61 | train loss: 0.446 | val loss: 0.420\n",
            "E62 | train loss: 0.398 | val loss: 0.375\n",
            "E63 | train loss: 0.356 | val loss: 0.334\n",
            "E64 | train loss: 0.317 | val loss: 0.297\n",
            "E65 | train loss: 0.282 | val loss: 0.264\n",
            "E66 | train loss: 0.250 | val loss: 0.234\n",
            "E67 | train loss: 0.222 | val loss: 0.208\n",
            "E68 | train loss: 0.196 | val loss: 0.184\n",
            "E69 | train loss: 0.173 | val loss: 0.162\n",
            "E70 | train loss: 0.153 | val loss: 0.143\n",
            "E71 | train loss: 0.135 | val loss: 0.126\n",
            "E72 | train loss: 0.118 | val loss: 0.110\n",
            "E73 | train loss: 0.104 | val loss: 0.097\n",
            "E74 | train loss: 0.091 | val loss: 0.085\n",
            "E75 | train loss: 0.079 | val loss: 0.074\n",
            "E76 | train loss: 0.069 | val loss: 0.064\n",
            "E77 | train loss: 0.060 | val loss: 0.056\n",
            "E78 | train loss: 0.053 | val loss: 0.049\n",
            "E79 | train loss: 0.046 | val loss: 0.042\n",
            "E80 | train loss: 0.039 | val loss: 0.037\n",
            "E81 | train loss: 0.034 | val loss: 0.032\n",
            "E82 | train loss: 0.029 | val loss: 0.027\n",
            "E83 | train loss: 0.025 | val loss: 0.023\n",
            "E84 | train loss: 0.022 | val loss: 0.020\n",
            "E85 | train loss: 0.019 | val loss: 0.017\n",
            "E86 | train loss: 0.016 | val loss: 0.015\n",
            "E87 | train loss: 0.014 | val loss: 0.013\n",
            "E88 | train loss: 0.012 | val loss: 0.011\n",
            "E89 | train loss: 0.010 | val loss: 0.009\n",
            "E90 | train loss: 0.008 | val loss: 0.008\n",
            "E91 | train loss: 0.007 | val loss: 0.007\n",
            "E92 | train loss: 0.006 | val loss: 0.006\n",
            "E93 | train loss: 0.005 | val loss: 0.005\n",
            "E94 | train loss: 0.004 | val loss: 0.004\n",
            "E95 | train loss: 0.004 | val loss: 0.003\n",
            "E96 | train loss: 0.003 | val loss: 0.003\n",
            "E97 | train loss: 0.003 | val loss: 0.002\n",
            "E98 | train loss: 0.002 | val loss: 0.002\n",
            "E99 | train loss: 0.002 | val loss: 0.002\n"
          ]
        }
      ],
      "source": [
        "line_model_lin = LineLinearNet()\n",
        "line_lin_losses = run(line_dl,\n",
        "                      line_dl,\n",
        "                      line_model_lin,\n",
        "                      lr = 0.1)"
      ]
    },
    {
      "cell_type": "markdown",
      "metadata": {
        "id": "-AzAd12w6gH9"
      },
      "source": [
        "# 5. CNN"
      ]
    },
    {
      "cell_type": "code",
      "source": [
        "class myLayer(nn.Module):\n",
        "  def __init__(self, num_filters):\n",
        "    super().__init__()\n",
        "    self.num_filters = num_filters\n",
        "    weight = torch.ones(1, self.num_filters)\n",
        "    self.weight = nn.Parameter(weight)\n",
        "\n",
        "    # nn.init.kaiming_uniform_(self.weights, a=math.sqrt(5))\n",
        "  def forward(self, x):\n",
        "    y = torch.ones(x.shape)\n",
        "    for i in range(x.shape[0]):\n",
        "      # print(seq.shape)\n",
        "      '''\n",
        "      self.weight has shape (32, 1), seq has shape (32, 244) for 32 filters\n",
        "      and seq length 250 - kernel size 7 + 1 = 244 with no padding or stride.\n",
        "      (1,32) x (32, 244) = (1, 244)\n",
        "      '''\n",
        "      y[i] = torch.matmul(self.weight, x[i])\n",
        "    return y"
      ],
      "metadata": {
        "id": "BsGhpi8fTWXJ"
      },
      "execution_count": null,
      "outputs": []
    },
    {
      "cell_type": "code",
      "execution_count": null,
      "metadata": {
        "id": "Oye6GdAeQCbn"
      },
      "outputs": [],
      "source": [
        "class ConvNet(nn.Module):\n",
        "    def __init__(self,\n",
        "                 seq_length,\n",
        "                 num_filters = 32,\n",
        "                 kernel_size = 7\n",
        "                 ):\n",
        "        super(ConvNet, self).__init__()\n",
        "        self.model = nn.Sequential(\n",
        "          nn.Conv1d(4, num_filters, kernel_size=kernel_size),\n",
        "          # nn.Dropout(p=0.5),\n",
        "          # nn.ReLU(),\n",
        "          # myLayer(num_filters),\n",
        "          torch.nn.Flatten(),\n",
        "          # nn.Linear(7808, 244),\n",
        "          nn.MaxPool1d(num_filters * (seq_length-kernel_size + 1)),\n",
        "\n",
        "          # nn.Linear(num_filters*(seq_length-kernel_size + 1), 1),\n",
        "          nn.Sigmoid()\n",
        "        )\n",
        "\n",
        "        with torch.no_grad():\n",
        "          self.model[0].weight *= 0.1\n",
        "\n",
        "\n",
        "        # self.loss = nn.MSELoss()\n",
        "        # self.conv = nn.Conv1d(4, 32, kernel_size, stride=1, padding=1)\n",
        "        # self.relu = nn.ReLU()\n",
        "        # self.maxpool = nn.MaxPool1d(length - kernel_size + 2)\n",
        "        # self.flatten = torch.nn.Flatten(1)\n",
        "        # self.fc = nn.Linear(32, 1)\n",
        "        # self.fctest1 = nn.Linear(28, 100)\n",
        "        # self.fctest2 = nn.Linear(100, 1)\n",
        "    def forward(self, x):\n",
        "        x = self.model(x)\n",
        "        return x"
      ]
    },
    {
      "cell_type": "code",
      "execution_count": null,
      "metadata": {
        "id": "KZbx_piI5nIb"
      },
      "outputs": [],
      "source": [
        "model_cnn = ConvNet(seq_length=250)\n",
        "opt = optim.Adam(model_cnn.parameters(), lr=0.1)\n",
        "# opt = optim.SGD(model_cnn.parameters(), lr=0.25)\n",
        "# scheduler = torch.optim.lr_scheduler.StepLR(opt, step_size=30, gamma=0.1)\n",
        "# run the model\n",
        "model_cnn.to(DEVICE)\n",
        "cnn_train_losses, cnn_val_losses = run(\n",
        "    xTr_dl,\n",
        "    xVal_dl,\n",
        "    model_cnn,\n",
        "    opt = opt,\n",
        "    device = DEVICE,\n",
        "    epochs = 200,\n",
        "    # reg=l1_reg,\n",
        "    # lamb=0.001\n",
        ")"
      ]
    },
    {
      "cell_type": "code",
      "source": [],
      "metadata": {
        "id": "mmzayemE4ORo"
      },
      "execution_count": null,
      "outputs": []
    },
    {
      "cell_type": "code",
      "source": [
        "from torchvision import models\n",
        "from torchsummary import summary\n",
        "\n",
        "summary(model_cnn, (4, 250))"
      ],
      "metadata": {
        "colab": {
          "base_uri": "https://localhost:8080/"
        },
        "id": "2uNrY3gLnOXE",
        "outputId": "3f49cf67-c99d-4393-c91d-d9b5eec5a31e"
      },
      "execution_count": null,
      "outputs": [
        {
          "output_type": "stream",
          "name": "stdout",
          "text": [
            "----------------------------------------------------------------\n",
            "        Layer (type)               Output Shape         Param #\n",
            "================================================================\n",
            "            Conv1d-1              [-1, 32, 244]             928\n",
            "           Flatten-2                 [-1, 7808]               0\n",
            "         MaxPool1d-3                    [-1, 1]               0\n",
            "           Sigmoid-4                    [-1, 1]               0\n",
            "================================================================\n",
            "Total params: 928\n",
            "Trainable params: 928\n",
            "Non-trainable params: 0\n",
            "----------------------------------------------------------------\n",
            "Input size (MB): 0.00\n",
            "Forward/backward pass size (MB): 0.12\n",
            "Params size (MB): 0.00\n",
            "Estimated Total Size (MB): 0.13\n",
            "----------------------------------------------------------------\n"
          ]
        }
      ]
    },
    {
      "cell_type": "markdown",
      "source": [
        "## short seq cnn"
      ],
      "metadata": {
        "id": "SSQTPr6sflM7"
      }
    },
    {
      "cell_type": "code",
      "execution_count": null,
      "metadata": {
        "id": "vCcZENCetT6v"
      },
      "outputs": [],
      "source": [
        "\n",
        "model_short_cnn = ConvNet(seq_length=7)\n",
        "\n",
        "# run the model on short sequence\n",
        "cnn_train_losses = run(\n",
        "    sxTr_dl,\n",
        "    sxVal_dl,\n",
        "    model_short_cnn\n",
        ")"
      ]
    },
    {
      "cell_type": "markdown",
      "source": [
        "## 7-scale cnn"
      ],
      "metadata": {
        "id": "DNYkKmWyfqFv"
      }
    },
    {
      "cell_type": "code",
      "execution_count": null,
      "metadata": {
        "id": "zqhjKjkyz3SI"
      },
      "outputs": [],
      "source": [
        "model_sev_cnn = ConvNet(seq_length=7)\n",
        "\n",
        "# run the model on seven weight sequence\n",
        "cnn_sevtrain_losses = run(\n",
        "    sevxTr_dl,\n",
        "    sevxVal_dl,\n",
        "    model_sev_cnn\n",
        ")"
      ]
    },
    {
      "cell_type": "markdown",
      "metadata": {
        "id": "y25PN42-NVRT"
      },
      "source": [
        "## Learning rate testing"
      ]
    },
    {
      "cell_type": "code",
      "execution_count": null,
      "metadata": {
        "id": "ciwh2OawNYbk"
      },
      "outputs": [],
      "source": [
        "lrs = [0.5, 0.25, 0.1, 0.05, 0.025, 0.01]\n",
        "lr_losses = []\n",
        "for lr in lrs:\n",
        "  print(f'------{lr}------')\n",
        "  repeat_lr = lr\n",
        "  repeats = 5\n",
        "  for i in range(repeats):\n",
        "    print(f'------{repeat_lr}------')\n",
        "    model_cnn = ConvNet(seq_length=250)\n",
        "    opt = optim.Adam(model_cnn.parameters(), lr=repeat_lr)\n",
        "    test_lr_loss = run(\n",
        "        xTr_dl,\n",
        "        xVal_dl,\n",
        "        model_cnn,\n",
        "        opt = opt,\n",
        "        epochs = 25\n",
        "    )\n",
        "    lr_losses.append(test_lr_loss)"
      ]
    },
    {
      "cell_type": "code",
      "execution_count": null,
      "metadata": {
        "id": "WdmjS6Vxw1vo"
      },
      "outputs": [],
      "source": [
        "repeat_lr = 0.25\n",
        "repeats = 10\n",
        "lr_losses = []\n",
        "for i in range(repeats):\n",
        "  print(f'------{repeat_lr}------')\n",
        "  model_cnn = ConvNet(seq_length=250)\n",
        "  opt = optim.Adam(model_cnn.parameters(), lr=repeat_lr)\n",
        "  test_lr_loss = run(\n",
        "      xTr_dl,\n",
        "      xVal_dl,\n",
        "      model_cnn,\n",
        "      opt = opt,\n",
        "      epochs = 25\n",
        "  )\n",
        "  lr_losses.append(test_lr_loss)"
      ]
    },
    {
      "cell_type": "code",
      "execution_count": null,
      "metadata": {
        "id": "NU6fy0fasquy"
      },
      "outputs": [],
      "source": [
        "for i in range(4):\n",
        "\n",
        "  plt.plot(lr_losses[i])\n",
        "plt.legend()"
      ]
    },
    {
      "cell_type": "code",
      "execution_count": null,
      "metadata": {
        "id": "-tVOhL0j4FwX"
      },
      "outputs": [],
      "source": [
        "for i in range(len(lrs)):\n",
        "  for i in range(repeats):\n",
        "    plt.plot(lr_losses[i], label=lrs[i])\n",
        "plt.legend(lr_losses, lrs)"
      ]
    },
    {
      "cell_type": "code",
      "source": [
        "for curve in lr_losses:\n",
        "  plt.plot(curve)"
      ],
      "metadata": {
        "id": "DlQ1qC2uyVJY"
      },
      "execution_count": null,
      "outputs": []
    },
    {
      "cell_type": "code",
      "source": [
        "for lr in lrs:\n",
        "  for i in range(repeats):\n"
      ],
      "metadata": {
        "id": "xfWOx8ItzQf2"
      },
      "execution_count": null,
      "outputs": []
    },
    {
      "cell_type": "markdown",
      "metadata": {
        "id": "wmNRyAgS0qB9"
      },
      "source": [
        "# 6. Model Examples"
      ]
    },
    {
      "cell_type": "code",
      "execution_count": null,
      "metadata": {
        "id": "N_dtGmCz0zXH"
      },
      "outputs": [],
      "source": [
        "def quick_examples(model, dataloader):\n",
        "    '''\n",
        "    Given a model and some sequences, get the model's predictions\n",
        "    for those sequences and compare to the oracle (true) output\n",
        "    '''\n",
        "    outs = []\n",
        "    yis = []\n",
        "    for x, y in dataloader:\n",
        "      for i in range(50):\n",
        "        xi = x[i].view(1, x[i].shape[0], x[i].shape[1])\n",
        "        out = model(xi)\n",
        "        print(f'{out} --> {y[i]}')\n",
        "        outs.append(out.item())\n",
        "        yis.append(y[i].item())\n",
        "    return outs, yis"
      ]
    },
    {
      "cell_type": "code",
      "execution_count": null,
      "metadata": {
        "id": "Mu0TgAm-3kz3"
      },
      "outputs": [],
      "source": [
        "examples = quick_examples(model_cnn, xTr_dl)"
      ]
    },
    {
      "cell_type": "code",
      "execution_count": null,
      "metadata": {
        "id": "mg3dQh2pQcFQ"
      },
      "outputs": [],
      "source": [
        "plt.scatter(examples[0], examples[1])"
      ]
    },
    {
      "cell_type": "markdown",
      "source": [
        "# 7. Visualize Filters"
      ],
      "metadata": {
        "id": "2QiguB1-_cjc"
      }
    },
    {
      "cell_type": "code",
      "source": [
        "def get_conv_layers_from_model(model):\n",
        "    '''\n",
        "    Given a trained model, extract its convolutional layers\n",
        "    '''\n",
        "    model_children = list(model.children())\n",
        "\n",
        "    # counter to keep count of the conv layers\n",
        "    model_weights = [] # we will save the conv layer weights in this list\n",
        "    conv_layers = [] # we will save the actual conv layers in this list\n",
        "    bias_weights = []\n",
        "    counter = 0\n",
        "\n",
        "    # append all the conv layers and their respective weights to the list\n",
        "    for i in range(len(model_children)):\n",
        "        # get model type of Conv1d\n",
        "        if isinstance(model_children[i], torch.nn.Conv1d):\n",
        "            counter += 1\n",
        "            model_weights.append(model_children[i].weight)\n",
        "            conv_layers.append(model_children[i])\n",
        "            bias_weights.append(model_children[i].bias)\n",
        "\n",
        "        # also check sequential objects' children for conv1d\n",
        "        elif isinstance(model_children[i], torch.nn.Sequential):\n",
        "            for child in model_children[i]:\n",
        "                if isinstance(child, torch.nn.Conv1d):\n",
        "                    counter += 1\n",
        "                    model_weights.append(child.weight)\n",
        "                    conv_layers.append(child)\n",
        "                    bias_weights.append(child.bias)\n",
        "    print(f\"Total convolutional layers: {counter}\")\n",
        "    return conv_layers, model_weights, bias_weights\n",
        "\n",
        "def view_filters(model_weights, num_cols=8):\n",
        "    model_weights = model_weights[0]\n",
        "    num_filt = model_weights.shape[0]\n",
        "    filt_width = model_weights[0].shape[1]\n",
        "    num_rows = int(np.ceil(num_filt/num_cols))\n",
        "\n",
        "    # visualize the first conv layer filters\n",
        "    plt.figure(figsize=(20, 17))\n",
        "    for i, filter in enumerate(model_weights):\n",
        "        ax = plt.subplot(num_rows, num_cols, i+1)\n",
        "        ax.imshow(filter.cpu().detach(), cmap='gray')\n",
        "        ax.set_yticks(np.arange(4))\n",
        "        ax.set_yticklabels(['A', 'C', 'G','T'])\n",
        "        ax.set_xticks(np.arange(filt_width))\n",
        "        ax.set_title(f\"Filter {i}\")\n",
        "\n",
        "    plt.tight_layout()\n",
        "    plt.show()"
      ],
      "metadata": {
        "id": "e-QwxYVe_hX4"
      },
      "execution_count": null,
      "outputs": []
    },
    {
      "cell_type": "code",
      "source": [
        "layers, weights = get_myLayer_from_model(model_cnn)\n",
        "print(layers)\n",
        "print(weights)"
      ],
      "metadata": {
        "colab": {
          "base_uri": "https://localhost:8080/"
        },
        "id": "C6mKOz2y37wM",
        "outputId": "8d3b4009-213a-4091-97cc-7fb5cb50f9c3"
      },
      "execution_count": null,
      "outputs": [
        {
          "output_type": "stream",
          "name": "stdout",
          "text": [
            "[]\n",
            "[]\n"
          ]
        }
      ]
    },
    {
      "cell_type": "code",
      "source": [
        "print([f'{i}: {weights[i]}' for i in range(len(weights))])\n",
        "conv_layers, model_weights, bias_weights = get_conv_layers_from_model(model_cnn)\n",
        "view_filters(model_weights)"
      ],
      "metadata": {
        "colab": {
          "base_uri": "https://localhost:8080/",
          "height": 991
        },
        "id": "GBY2bG9W_oyC",
        "outputId": "70b64ac4-c257-49af-83f9-8e5bbda0fb63"
      },
      "execution_count": null,
      "outputs": [
        {
          "output_type": "stream",
          "name": "stdout",
          "text": [
            "[]\n",
            "Total convolutional layers: 1\n"
          ]
        },
        {
          "output_type": "display_data",
          "data": {
            "text/plain": [
              "<Figure size 2000x1700 with 32 Axes>"
            ],
            "image/png": "[encoded data removed]"
          },
          "metadata": {}
        }
      ]
    },
    {
      "cell_type": "markdown",
      "metadata": {
        "id": "rtGuSRi86tX3"
      },
      "source": [
        "# Crap Code"
      ]
    },
    {
      "cell_type": "code",
      "execution_count": null,
      "metadata": {
        "id": "6iz3SErF_7kS"
      },
      "outputs": [],
      "source": [
        "#optimization\n",
        "import torch.optim as optim\n",
        "\n",
        "steps = 10000\n",
        "lossi = []\n",
        "batch_size = 100\n",
        "Xin = sXenc\n",
        "Yin = sYtr\n",
        "# lr = 0.001\n",
        "loss = nn.MSELoss()\n",
        "linear = LinearNet(7)\n",
        "net = linear\n",
        "optimizer = optim.Adam(net.parameters(), lr = 0.0001)\n",
        "\n",
        "for i in range(steps):\n",
        "\n",
        "  #batch construct\n",
        "  ix = torch.randint(0, Xin.shape[0], (batch_size,))\n",
        "  Xb, Yb = Xin[ix], Yin[ix]\n",
        "\n",
        "  #forward pass\n",
        "  output = net(Xb)\n",
        "  loss_v = loss(output, Yb)\n",
        "  lossi.append(loss_v.item())\n",
        "\n",
        "  #backward pass\n",
        "  loss_v.backward()\n",
        "  optimizer.step()\n",
        "  optimizer.zero_grad()\n",
        "\n",
        "\n",
        "\n",
        "  if i % 100 == 0: # print every once in a while\n",
        "    print(f'{i:7d}/{steps:7d}: {loss_v.item():.4f}')\n"
      ]
    },
    {
      "cell_type": "code",
      "execution_count": null,
      "metadata": {
        "id": "A0CCu1DEdXWH"
      },
      "outputs": [],
      "source": [
        "Ytr.shape"
      ]
    },
    {
      "cell_type": "code",
      "execution_count": null,
      "metadata": {
        "id": "NIrZzhMYJOMC"
      },
      "outputs": [],
      "source": [
        "Xdev = enc(Xdev)\n",
        "Xte = enc(Xte)\n",
        "\n",
        "@torch.no_grad()\n",
        "def split_loss(split):\n",
        "  x,y = {\n",
        "    'train': (Xenc, Ytr),\n",
        "    'val': (Xdev, Ydev),\n",
        "    'test': (Xte, Yte),\n",
        "  }[split]\n",
        "  loss = net(x, y)\n",
        "  print(split, loss.item())\n",
        "\n",
        "split_loss('train')\n",
        "split_loss('val')"
      ]
    },
    {
      "cell_type": "code",
      "execution_count": null,
      "metadata": {
        "id": "08FhxGONebdv"
      },
      "outputs": [],
      "source": [
        "sXenc.shape"
      ]
    },
    {
      "cell_type": "code",
      "execution_count": null,
      "metadata": {
        "id": "6gD22pM_9ftP"
      },
      "outputs": [],
      "source": [
        "shapes = []\n",
        "testxi = torch.reshape(sXenc[10], (1, 4, -1))\n",
        "net(testxi)\n",
        "shapestr = ''\n",
        "# for shape in shapes:\n",
        "#   shapestr += f'{shapes}---> '\n",
        "shapestr"
      ]
    },
    {
      "cell_type": "code",
      "execution_count": null,
      "metadata": {
        "id": "txSNpI0ATgRt"
      },
      "outputs": [],
      "source": [
        "for x, y in sxTr_dl:\n",
        "  for i in range(50):\n",
        "    xi = x[i].view(1, x[i].shape[0], x[i].shape[1])\n",
        "    print(f'{model_lin(xi)} --> {y[i]}')"
      ]
    },
    {
      "cell_type": "code",
      "execution_count": null,
      "metadata": {
        "id": "WrAfqRYwUKUp"
      },
      "outputs": [],
      "source": [
        "shapes"
      ]
    },
    {
      "cell_type": "code",
      "execution_count": null,
      "metadata": {
        "id": "jCItyfMvzaUe"
      },
      "outputs": [],
      "source": [
        "for seqs, labs in sxTr_dl:\n",
        "  # print(f'seqs: {seqs[0]}')\n",
        "  x_again = torch.argmax(seqs, dim=1)\n",
        "  # print(f'x_again: {x_again[0]}')\n",
        "strings = []\n",
        "for x in x_again:\n",
        "  # print(f'x: {x}')\n",
        "  x_str = ''\n",
        "  for i in x:\n",
        "    i = i.item()\n",
        "    x_str += itob[i]\n",
        "  strings.append(x_str)\n",
        "  # print(f'x_str: {x_str}')\n",
        "# print(f'strings: {strings}')\n",
        "ys = []\n",
        "for item in labs:\n",
        "  item = item.item()\n",
        "  ys.append(item)\n",
        "\n",
        "testzips = zip(strings, ys)\n",
        "\n",
        "print(all([tup[1] == 0 for tup in testzips if tup[0] != gat]))\n",
        "print(all([tup[1] == 1 for tup in testzips if tup[0] == gat]))\n",
        "print(list(testzips))"
      ]
    }
  ],
  "metadata": {
    "colab": {
      "provenance": [],
      "collapsed_sections": [
        "bpFIwNfbQVrK",
        "uodV1f9JQZKL",
        "ksDABkFZRoBg",
        "SSQTPr6sflM7",
        "DNYkKmWyfqFv"
      ],
      "gpuType": "T4",
      "authorship_tag": "ABX9TyNHdAsr7rCsh4NlQspPnKd2",
      "include_colab_link": true
    },
    "kernelspec": {
      "display_name": "Python 3",
      "name": "python3"
    },
    "language_info": {
      "name": "python"
    }
  },
  "nbformat": 4,
  "nbformat_minor": 0
}